{
 "cells": [
  {
   "cell_type": "markdown",
   "metadata": {},
   "source": [
    "# 量化子消去のアルゴリズム(具体的な命題文の場合)"
   ]
  },
  {
   "cell_type": "markdown",
   "metadata": {},
   "source": [
    "具体的に次の命題文について，量化子消去を行う．\n",
    "\n",
    "$\\forall x (x^2 + a^2 < 1 \\land a < x)$\n",
    "\n",
    "この命題文は, $-1<a<1/\\sqrt{2}$に同値である．\n",
    "\n",
    "この命題文に登場する多項式は$x^2 + a^2 - 1, a-x$のみである．"
   ]
  },
  {
   "cell_type": "code",
   "execution_count": 30,
   "metadata": {
    "scrolled": true
   },
   "outputs": [
    {
     "data": {
      "text/plain": [
       "[x^2 + a^2 - 1, -x + a]"
      ]
     },
     "execution_count": 30,
     "metadata": {},
     "output_type": "execute_result"
    }
   ],
   "source": [
    "R.<x,a> = QQ[]\n",
    "\n",
    "# # ここにCADしたい多項式のリストを渡す\n",
    "F = [x^2 + a^2-1,a-x];F"
   ]
  },
  {
   "cell_type": "markdown",
   "metadata": {},
   "source": [
    "量化子消去を行うためにCADを求める．まず，射影$G= \\mathrm{PROJ}(F)$をを求める．"
   ]
  },
  {
   "cell_type": "code",
   "execution_count": 31,
   "metadata": {},
   "outputs": [],
   "source": [
    "# 主部分終結式係数全体(principal subresultant coefficient)\n",
    "# 一つ一つ出力するほうがわかりやすいが, sagemathはsubresultantsモジュールしか備えておらず, そのためすべてを出力するように実装する.\n",
    "def PSCs(f, g):\n",
    "    \"\"\"\n",
    "    deg(f)>= 0, deg(g)>= 0, つまり, f != 0, g!= 0を仮定する.\n",
    "    \"\"\"\n",
    "    if f == 0 or g == 0:\n",
    "        return False\n",
    "    psc_list = []\n",
    "    subres = f.subresultants(g)\n",
    "    for i in range(len(subres)):\n",
    "        if subres[i].degree()==i:\n",
    "            psc_list.append(subres[i].lc())\n",
    "        else:\n",
    "            psc_list.append(0)\n",
    "    \n",
    "    return psc_list"
   ]
  },
  {
   "cell_type": "code",
   "execution_count": 32,
   "metadata": {},
   "outputs": [],
   "source": [
    "def PROJ(F):\n",
    "    R = F[0].parent()\n",
    "    F = [R(f).polynomial(R.gen()) for f in F]\n",
    "    \n",
    "    # FのReductionをすべて計算し, その集合をBとする\n",
    "    B = []\n",
    "    for f in F:\n",
    "        A = f\n",
    "        while(A != 0):\n",
    "            B.append(A)\n",
    "            A = A - A.lt()\n",
    "            \n",
    "    # Bの先頭項係数全体をLとする.\n",
    "    L = {b.lc() for b in B}\n",
    "\n",
    "    # PSC_k(b, b')全体をS1とする.\n",
    "    S1 = []\n",
    "    for b in B:\n",
    "        if b.degree()>0:\n",
    "            S1 = S1 + PSCs(b, b.diff())            \n",
    "    S1 = set(S1)\n",
    "    \n",
    "    # PSC_k(b_1, b_2)全体をS2とする.\n",
    "    S2 = []\n",
    "    for i in range(len(B)):\n",
    "        for j in range(i+1,len(B)):\n",
    "            S2 = S2 + PSCs(B[i],B[j])\n",
    "    S2 = set(S2)\n",
    "    \n",
    "    proj = {f for f in L | S1 | S2 if not f in RR}\n",
    "    return list(proj)"
   ]
  },
  {
   "cell_type": "code",
   "execution_count": 33,
   "metadata": {},
   "outputs": [
    {
     "data": {
      "text/plain": [
       "[4*a^2 - 4, a^2 - 1, 2*a^2 - 1, a]"
      ]
     },
     "execution_count": 33,
     "metadata": {},
     "output_type": "execute_result"
    }
   ],
   "source": [
    "G = PROJ(F);G"
   ]
  },
  {
   "cell_type": "markdown",
   "metadata": {},
   "source": [
    "$G$不変な$\\mathbb{R}$の分割を求める．"
   ]
  },
  {
   "cell_type": "code",
   "execution_count": 34,
   "metadata": {},
   "outputs": [],
   "source": [
    "def base(F):\n",
    "    # 前処理: 定数となるようなFは除く.\n",
    "    F = [f for f in F if f not in AA]\n",
    "    \n",
    "    B = []\n",
    "    for g in F:\n",
    "        B += g.roots(AA, multiplicities = False)\n",
    "    B = list(set(B))\n",
    "    B.sort()\n",
    "    \n",
    "    ans = []\n",
    "    if(len(B) == 0):\n",
    "        ans.append(AA(0))\n",
    "    else:\n",
    "        ans.append(B[0]-1)\n",
    "        for i in range(len(B)-1):\n",
    "            ans.append(B[i])\n",
    "            ans.append((B[i]+B[i+1])/2)\n",
    "        ans.append(B[-1])\n",
    "        ans.append(B[-1]+1)\n",
    "    \n",
    "    ans = [(a,) for a in ans]\n",
    "    return ans\n"
   ]
  },
  {
   "cell_type": "code",
   "execution_count": 35,
   "metadata": {},
   "outputs": [
    {
     "data": {
      "text/plain": [
       "[(-2,),\n",
       " (-1,),\n",
       " (-0.8535533905932738?,),\n",
       " (-0.7071067811865475?,),\n",
       " (-0.3535533905932738?,),\n",
       " (0,),\n",
       " (0.3535533905932738?,),\n",
       " (0.7071067811865475?,),\n",
       " (0.8535533905932738?,),\n",
       " (1,),\n",
       " (2,)]"
      ]
     },
     "execution_count": 35,
     "metadata": {},
     "output_type": "execute_result"
    }
   ],
   "source": [
    "base(G)"
   ]
  },
  {
   "cell_type": "markdown",
   "metadata": {},
   "source": [
    "ここで求めた$\\mathbb{R}$の分割の各セルの定義式が問題となる．\n",
    "ここで，$G$の生成する微分で閉じた集合$AG$とすると, これは各セルを分離する定義式である．"
   ]
  },
  {
   "cell_type": "code",
   "execution_count": 36,
   "metadata": {},
   "outputs": [
    {
     "data": {
      "text/plain": [
       "2*a"
      ]
     },
     "execution_count": 36,
     "metadata": {},
     "output_type": "execute_result"
    }
   ],
   "source": [
    "f = x^2 + a^2\n",
    "f = R(f).polynomial(a)\n",
    "f.diff()"
   ]
  },
  {
   "cell_type": "code",
   "execution_count": 37,
   "metadata": {},
   "outputs": [],
   "source": [
    "def Augment(F):\n",
    "    R = F[0].parent()\n",
    "    F = [R(f).polynomial(R.gen()) for f in F]\n",
    "    \n",
    "    AF = []\n",
    "    for f in F:\n",
    "        while(f != 0):\n",
    "            AF.append(f)\n",
    "            f = f.diff()\n",
    "    \n",
    "    AF = set(AF)\n",
    "    return AF"
   ]
  },
  {
   "cell_type": "code",
   "execution_count": 38,
   "metadata": {},
   "outputs": [
    {
     "data": {
      "text/plain": [
       "{1, 2, 4, 8, a, 2*a, 4*a, 8*a, a^2 - 1, 2*a^2 - 1, 4*a^2 - 4}"
      ]
     },
     "execution_count": 38,
     "metadata": {},
     "output_type": "execute_result"
    }
   ],
   "source": [
    "AG = Augment(G);AG"
   ]
  },
  {
   "cell_type": "markdown",
   "metadata": {},
   "source": [
    "この集合$AG$は, 上で求めた$\\mathbb{R}$の定義式となる．"
   ]
  },
  {
   "cell_type": "code",
   "execution_count": 39,
   "metadata": {},
   "outputs": [],
   "source": [
    "def lifting(Base, F):\n",
    "    R = F[0].parent()\n",
    "    ans = []\n",
    "    for b in Base:\n",
    "        F_1 = [AA[f\"{R.gen()}\"](f((R.gen(),)+b)) for f in F]\n",
    "        for a in base(F_1):\n",
    "            ans.append(a+b)\n",
    "    return ans"
   ]
  },
  {
   "cell_type": "markdown",
   "metadata": {},
   "source": [
    "持ち上げを計算し, どのセルが条件式を満たしているかをチェックする．\n",
    "条件を満たすセルの代表点をすべて表示する．"
   ]
  },
  {
   "cell_type": "code",
   "execution_count": 40,
   "metadata": {},
   "outputs": [
    {
     "name": "stdout",
     "output_type": "stream",
     "text": [
      "[(-2,), (-1,), (-0.8535533905932738?,), (-0.7071067811865475?,), (-0.3535533905932738?,), (0,), (0.3535533905932738?,), (0.7071067811865475?,), (0.8535533905932738?,), (1,), (2,)]\n"
     ]
    }
   ],
   "source": [
    "G = PROJ(F)\n",
    "Base = base(G)\n",
    "print(Base)\n",
    "Samples = lifting(Base,F)"
   ]
  },
  {
   "cell_type": "code",
   "execution_count": 41,
   "metadata": {
    "scrolled": true
   },
   "outputs": [
    {
     "data": {
      "text/plain": [
       "[(-0.8535533905932738?,),\n",
       " (-0.7071067811865475?,),\n",
       " (-0.3535533905932738?,),\n",
       " (0,),\n",
       " (0.3535533905932738?,)]"
      ]
     },
     "execution_count": 41,
     "metadata": {},
     "output_type": "execute_result"
    }
   ],
   "source": [
    "# 条件を満たしているサンプルポイントのリスト:\n",
    "Satisfies = []\n",
    "for (b1,) in Base:\n",
    "    for (a,b2) in Samples:\n",
    "        if b1 == b2:\n",
    "            if F[0](a,b2)<0 and F[1](a,b2)<0:\n",
    "                Satisfies.append((b1,))\n",
    "                break\n",
    "Satisfies"
   ]
  },
  {
   "cell_type": "markdown",
   "metadata": {},
   "source": [
    "最後に，代数的命題文で記述する．簡単のため，AGは先頭項係数を0にしておく."
   ]
  },
  {
   "cell_type": "code",
   "execution_count": 42,
   "metadata": {},
   "outputs": [
    {
     "data": {
      "text/plain": [
       "{1, a, a^2 - 1, a^2 - 1/2}"
      ]
     },
     "execution_count": 42,
     "metadata": {},
     "output_type": "execute_result"
    }
   ],
   "source": [
    "AG = {g/g.lc() for g in AG};AG"
   ]
  },
  {
   "cell_type": "code",
   "execution_count": 43,
   "metadata": {},
   "outputs": [
    {
     "data": {
      "text/plain": [
       "['(a^2 - 1/2 > 0 and 1 > 0 and a^2 - 1 < 0 and a < 0)',\n",
       " '(a^2 - 1/2 = 0 and 1 > 0 and a^2 - 1 < 0 and a < 0)',\n",
       " '(a^2 - 1/2 < 0 and 1 > 0 and a^2 - 1 < 0 and a < 0)',\n",
       " '(a^2 - 1/2 < 0 and 1 > 0 and a^2 - 1 < 0 and a = 0)',\n",
       " '(a^2 - 1/2 < 0 and 1 > 0 and a^2 - 1 < 0 and a > 0)']"
      ]
     },
     "execution_count": 43,
     "metadata": {},
     "output_type": "execute_result"
    }
   ],
   "source": [
    "sentences = []\n",
    "for (b,) in Satisfies:\n",
    "        lst = []\n",
    "        for g in AG:\n",
    "            if g(b) > 0:\n",
    "                lst += [f\"{g} > 0\"]\n",
    "            elif g(b) == 0:\n",
    "                lst += [f\"{g} = 0\"]\n",
    "            elif g(b) < 0:\n",
    "                lst += [f\"{g} < 0\"]\n",
    "        sentences.append(\"(\" + \" and \".join(lst) + \")\")\n",
    "\n",
    "sentences       "
   ]
  },
  {
   "cell_type": "markdown",
   "metadata": {},
   "source": [
    "これらをorでつなげば, (一応)量化子消去が終了したことになる.たしかにこれは$-1 < a < 1/\\sqrt{2}$ではあるけども...．"
   ]
  },
  {
   "cell_type": "markdown",
   "metadata": {},
   "source": [
    "# 東京大学文科2021年数学 大問3 (1)\n",
    "\n",
    "量化記号消去したい論理式は\n",
    "\n",
    "$\\phi(a,b) = \\exists x_1 \\exists x_2 (-1 < x_1 < 0 \\land 0 < x_2 < 1 \\land x_1^2+ax_1+b = -x_1^2 \\land x_2^2 + ax_2 + b = -x_2^2)$\n",
    "\n",
    "である．\n",
    "この命題文は，\n",
    "\n",
    "$\\theta(a,b) = b < 0 \\land a+b+2>0 \\land b-a+2>0$\n",
    "\n",
    "に同値であることが分かっている．"
   ]
  },
  {
   "cell_type": "markdown",
   "metadata": {},
   "source": [
    "さて，この問題の量化記号消去を行うために，\n",
    "\n",
    "$F = \\{x_1, x_2,2x_1^2+ax_1 +b, 2x_2^2+ax_2+b\\}$\n",
    "\n",
    "とし，$F$適合な$\\mathbb{R}^4$の柱状代数分解を構成しよう．"
   ]
  },
  {
   "cell_type": "code",
   "execution_count": 250,
   "metadata": {},
   "outputs": [
    {
     "data": {
      "text/plain": [
       "[x1, x1 + 1, x2, x2 - 1, 2*x1^2 + x1*a + b, 2*x2^2 + x2*a + b]"
      ]
     },
     "execution_count": 250,
     "metadata": {},
     "output_type": "execute_result"
    }
   ],
   "source": [
    "R.<x1, x2, a, b> = QQ[]\n",
    "\n",
    "F = [x1,x1+1, x2, x2-1, 2*x1^2 + a*x1+ b, 2*x2^2+a*x2+b];F"
   ]
  },
  {
   "cell_type": "markdown",
   "metadata": {},
   "source": [
    "## DERの定義"
   ]
  },
  {
   "cell_type": "code",
   "execution_count": 252,
   "metadata": {},
   "outputs": [],
   "source": [
    "def DER(F):\n",
    "    x = F[0].parent().gen()\n",
    "    F = {f.polynomial(x) for f in F}\n",
    "    \n",
    "    der = []\n",
    "    for f in F:\n",
    "        while(f != 0):\n",
    "            der.append(f)\n",
    "            f=f.diff()\n",
    "    return list(set(der))"
   ]
  },
  {
   "cell_type": "markdown",
   "metadata": {},
   "source": [
    "## PROJの定義"
   ]
  },
  {
   "cell_type": "code",
   "execution_count": 253,
   "metadata": {},
   "outputs": [],
   "source": [
    "def PROJ(F):\n",
    "    x = F[0].parent().gen()\n",
    "    F = [f.polynomial(x) for f in F]\n",
    "    \n",
    "    # Fのreductionをすべて計算し，その集合をBとする．\n",
    "    B = []\n",
    "    for f in F:\n",
    "        while(f != 0):\n",
    "            B.append(f)\n",
    "            f = f - f.lt()\n",
    "    \n",
    "    # Bの先頭項係数全体をLとする．\n",
    "    L = {b.lc() for b in B}\n",
    "    \n",
    "    # PSC(b, b')全体をS1とする．\n",
    "    S1 = []\n",
    "    for f in B:\n",
    "        if (f.degree() == 0):\n",
    "            continue\n",
    "        s = f.subresultants(f.diff())\n",
    "        for i in range(len(s)):\n",
    "            if (s[i].degree()==i):\n",
    "                S1.append(s[i].lc())\n",
    "    S1 = set(S1)\n",
    "            \n",
    "    # PSC(b1, b2)全体をS2とする．\n",
    "    S2 = []\n",
    "    for i in range(len(B)):\n",
    "        if (B[i].degree() == 0):\n",
    "            continue\n",
    "        for j in range(i+1, len(B)):\n",
    "            if(B[j].degree()==0):\n",
    "                continue\n",
    "            s = B[i].subresultants(B[j])\n",
    "            for k in range(len(s)):\n",
    "                if (s[k].degree()==k):\n",
    "                    S2.append(s[k].lc())\n",
    "    S2 = set(S2)\n",
    "    \n",
    "    proj = (S1 | S2 | L)-{0}\n",
    "    return list(set(proj))"
   ]
  },
  {
   "cell_type": "markdown",
   "metadata": {},
   "source": [
    "## ImprovedCADの定義"
   ]
  },
  {
   "cell_type": "code",
   "execution_count": 255,
   "metadata": {},
   "outputs": [],
   "source": [
    "def ImprovedCAD(F):\n",
    "    Fbar = [DER(F)]\n",
    "    for i in range(len(R.gens())-1):\n",
    "        Fbar.append(DER(PROJ(Fbar[-1])))\n",
    "    return Fbar"
   ]
  },
  {
   "cell_type": "markdown",
   "metadata": {},
   "source": [
    "## BASEの定義"
   ]
  },
  {
   "cell_type": "code",
   "execution_count": 281,
   "metadata": {},
   "outputs": [],
   "source": [
    "def BASE(F, b):\n",
    "    R = F[0].parent()\n",
    "    F = [AA[f\"{R.gen()}\"](f(b+[R.gen()])) for f in F]\n",
    "\n",
    "    # 前処理：定数となるようなFは除く．\n",
    "    F = [f for f in F if f.degree() != 0]\n",
    "    \n",
    "    B=[]\n",
    "    for g in F:\n",
    "        B += g.roots(AA, multiplicities = False)\n",
    "    B = list(set(B))\n",
    "    B.sort()\n",
    "    \n",
    "    ans = []\n",
    "    if(len(B)==0):\n",
    "        ans.append(AA(0))\n",
    "    else:\n",
    "        ans.append(B[0]-1)\n",
    "        for i in range(len(B)-1):\n",
    "            ans.append(B[i])\n",
    "            ans.append((B[i]+B[i+1])/2)\n",
    "        ans.append(B[-1])\n",
    "        ans.append(B[-1]+1)\n",
    "    \n",
    "    ans = [b + [a,] for a in ans]\n",
    "    return ans"
   ]
  },
  {
   "cell_type": "markdown",
   "metadata": {},
   "source": [
    "## DECOMPの定義"
   ]
  },
  {
   "cell_type": "code",
   "execution_count": 282,
   "metadata": {},
   "outputs": [],
   "source": [
    "F4,F3,F2,F1 = ImprovedCAD(F)"
   ]
  },
  {
   "cell_type": "code",
   "execution_count": 284,
   "metadata": {},
   "outputs": [
    {
     "data": {
      "text/plain": [
       "[-7]"
      ]
     },
     "execution_count": 284,
     "metadata": {},
     "output_type": "execute_result"
    }
   ],
   "source": [
    "base = BASE(F1,[])\n",
    "base[0]"
   ]
  },
  {
   "cell_type": "code",
   "execution_count": 285,
   "metadata": {},
   "outputs": [
    {
     "data": {
      "text/plain": [
       "[[-7, -10],\n",
       " [-7, -9],\n",
       " [-7, -8],\n",
       " [-7, -7],\n",
       " [-7, -3.5000000000000000?],\n",
       " [-7, 0],\n",
       " [-7, 2.5000000000000000?],\n",
       " [-7, 5],\n",
       " [-7, 5.5625000000000000?],\n",
       " [-7, 6.1250000000000000?],\n",
       " [-7, 6.5625000000000000?],\n",
       " [-7, 7],\n",
       " [-7, 9.6250000000000000?],\n",
       " [-7, 12.250000000000000?],\n",
       " [-7, 13.250000000000000?]]"
      ]
     },
     "execution_count": 285,
     "metadata": {},
     "output_type": "execute_result"
    }
   ],
   "source": [
    "BASE(F2,base[0])"
   ]
  },
  {
   "cell_type": "code",
   "execution_count": 280,
   "metadata": {},
   "outputs": [
    {
     "data": {
      "text/plain": [
       "[[-7],\n",
       " [[-10],\n",
       "  [-9],\n",
       "  [-8],\n",
       "  [-7],\n",
       "  [-3.5000000000000000?],\n",
       "  [0],\n",
       "  [2.5000000000000000?],\n",
       "  [5],\n",
       "  [5.5625000000000000?],\n",
       "  [6.1250000000000000?],\n",
       "  [6.5625000000000000?],\n",
       "  [7],\n",
       "  [9.6250000000000000?],\n",
       "  [12.250000000000000?],\n",
       "  [13.250000000000000?]]]"
      ]
     },
     "execution_count": 280,
     "metadata": {},
     "output_type": "execute_result"
    }
   ],
   "source": [
    "base = BASE(F1,[])\n",
    "\n",
    "b = base[0]\n",
    "\n",
    "beta = [b,[]]\n",
    "beta[1] = BASE(F2, beta[0])\n",
    "beta"
   ]
  },
  {
   "cell_type": "code",
   "execution_count": 227,
   "metadata": {},
   "outputs": [],
   "source": [
    "def DECOMP(Flist, b):\n",
    "    beta = (b,[])\n",
    "    for F in Flist:\n",
    "        beta[1] = BASE(F, beta[0])\n",
    "    return beta"
   ]
  },
  {
   "cell_type": "code",
   "execution_count": 137,
   "metadata": {},
   "outputs": [
    {
     "data": {
      "text/plain": [
       "[x1, x1 + 1, x2, x2 - 1, 2*x1^2 + x1*a + b, 2*x2^2 + x2*a + b]"
      ]
     },
     "execution_count": 137,
     "metadata": {},
     "output_type": "execute_result"
    }
   ],
   "source": [
    "R.<x1, x2, a, b> = QQ[]\n",
    "\n",
    "F = [x1,x1+1, x2, x2-1, 2*x1^2 + a*x1+ b, 2*x2^2+a*x2+b];F"
   ]
  },
  {
   "cell_type": "code",
   "execution_count": 180,
   "metadata": {},
   "outputs": [],
   "source": [
    "F4,F3,F2,F1 = ImprovedCAD(F)"
   ]
  },
  {
   "cell_type": "markdown",
   "metadata": {},
   "source": [
    "## CADの描画\n",
    "\n",
    "定数倍などを消去する．"
   ]
  },
  {
   "cell_type": "code",
   "execution_count": 211,
   "metadata": {
    "scrolled": true
   },
   "outputs": [
    {
     "data": {
      "text/plain": [
       "{b - 8, b - 4, b - 2, b, b + 1, b + 2, b + 4, b + 6, b^2 + 4}"
      ]
     },
     "execution_count": 211,
     "metadata": {},
     "output_type": "execute_result"
    }
   ],
   "source": [
    "Fbar1 = []\n",
    "for f in F1:\n",
    "    for h,_ in  f.factor():\n",
    "        if h.degree()!=0:\n",
    "            Fbar1.append(h)\n",
    "Fbar1 = set(Fbar1)\n",
    "\n",
    "Fbar1"
   ]
  },
  {
   "cell_type": "code",
   "execution_count": 208,
   "metadata": {},
   "outputs": [
    {
     "data": {
      "text/plain": [
       "{-a + b, a - 4, a, a + 4, a - b - 2, a + b, a + b + 2, a^2 - 8*b, a^2 - 4*b}"
      ]
     },
     "execution_count": 208,
     "metadata": {},
     "output_type": "execute_result"
    }
   ],
   "source": [
    "Fbar2 = []\n",
    "for f in F2:\n",
    "    for h,_ in f.factor():\n",
    "        if h not in QQ:\n",
    "            Fbar2.append(h)\n",
    "Fbar2 = set(Fbar2)\n",
    "\n",
    "Fbar2"
   ]
  },
  {
   "cell_type": "code",
   "execution_count": 209,
   "metadata": {},
   "outputs": [
    {
     "data": {
      "image/png": "[encoded data removed]",
      "text/plain": [
       "Graphics object consisting of 18 graphics primitives"
      ]
     },
     "execution_count": 209,
     "metadata": {},
     "output_type": "execute_result"
    }
   ],
   "source": [
    "G = Graphics()\n",
    "for f in Fbar1:\n",
    "    G += implicit_plot(f,(b,-10,10),(a,-10,10))\n",
    "\n",
    "for g in Fbar2:\n",
    "    G += implicit_plot(g, (b,-10,10), (a,-10,10))\n",
    "G"
   ]
  },
  {
   "cell_type": "markdown",
   "metadata": {},
   "source": [
    "かなり複雑な条件となってしまっている．"
   ]
  },
  {
   "cell_type": "code",
   "execution_count": 225,
   "metadata": {},
   "outputs": [],
   "source": [
    "lst = [1,[]]\n",
    "lst[1]+= [1,2,3,4,5]"
   ]
  },
  {
   "cell_type": "code",
   "execution_count": 226,
   "metadata": {},
   "outputs": [
    {
     "data": {
      "text/plain": [
       "[1, 2, 3, 4, 5]"
      ]
     },
     "execution_count": 226,
     "metadata": {},
     "output_type": "execute_result"
    }
   ],
   "source": [
    "lst[1]"
   ]
  },
  {
   "cell_type": "code",
   "execution_count": 220,
   "metadata": {},
   "outputs": [
    {
     "data": {
      "text/plain": [
       "[5, 4, 3, 2, 1]"
      ]
     },
     "execution_count": 220,
     "metadata": {},
     "output_type": "execute_result"
    }
   ],
   "source": [
    "lst =[1,2,3,4,5]\n",
    "lst.reverse()\n",
    "lst"
   ]
  },
  {
   "cell_type": "code",
   "execution_count": null,
   "metadata": {},
   "outputs": [],
   "source": []
  }
 ],
 "metadata": {
  "kernelspec": {
   "display_name": "SageMath 9.3",
   "language": "sage",
   "name": "sagemath"
  },
  "language_info": {
   "codemirror_mode": {
    "name": "ipython",
    "version": 3
   },
   "file_extension": ".py",
   "mimetype": "text/x-python",
   "name": "python",
   "nbconvert_exporter": "python",
   "pygments_lexer": "ipython3",
   "version": "3.7.10"
  }
 },
 "nbformat": 4,
 "nbformat_minor": 4
}
