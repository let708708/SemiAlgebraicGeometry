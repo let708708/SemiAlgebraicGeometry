{
 "cells": [
  {
   "cell_type": "markdown",
   "metadata": {},
   "source": [
    "# CAD(2変数バージョン)\n",
    "\n",
    "このスクリプトでは, CADを次の3つの段階に分けて行う.\n",
    "\n",
    "- 射影段階: CADを与える多項式族の次数を下げる.\n",
    "- 底段階:\n",
    "- 持ち上げ段階:\n",
    "\n",
    "まずは簡単のために多項式の**変数が2個の場合に限り**実装する.\n",
    "その場合, 射影段階と持ち上げ段階の操作は1回で済む."
   ]
  },
  {
   "cell_type": "code",
   "execution_count": 2,
   "metadata": {},
   "outputs": [],
   "source": [
    "x,y = var(\"x y\")\n",
    "R = PolynomialRing(PolynomialRing(QQ,\"y\"),\"x\") # R=R[y][x]のこと.\n",
    "\n",
    "# ここにCADしたい多項式のリストを渡す\n",
    "#F = [x^2+y^2-1,x^2-y^3] \n",
    "F = [x^2-y,x*y-2]"
   ]
  },
  {
   "cell_type": "markdown",
   "metadata": {},
   "source": [
    "## 射影段階\n",
    "\n",
    "2変数多項式の族$ F $が与えられたとき, 1変数多項式の族$ F_1 \\cup F_2 \\cup F_3 $を次のように構成する.\n",
    "\n",
    "- $ F_1 $: $ f \\, (f \\in F) $の変数yに対する係数の多項式全体\n",
    "- $ F_2 $: $ \\mathrm{gcd}(f, df/dx) \\, (f \\in F) $の変数yに対する係数の多項式全体\n",
    "- $ F_3 $: $ \\mathrm{gcd}(f, g) \\, (f \\neq g \\in F) $の変数yに対する係数の多項式全体"
   ]
  },
  {
   "cell_type": "code",
   "execution_count": 3,
   "metadata": {},
   "outputs": [],
   "source": [
    "# 変数xについてk次以下の部分を取り出す関数\n",
    "def T(k,f):\n",
    "    return f.mod(R(x^(k+1)))\n",
    "\n",
    "# 与えられた関数をmonicにする"
   ]
  },
  {
   "cell_type": "code",
   "execution_count": 4,
   "metadata": {
    "scrolled": true
   },
   "outputs": [
    {
     "data": {
      "text/plain": [
       "[y, y^3 - 4]"
      ]
     },
     "execution_count": 4,
     "metadata": {},
     "output_type": "execute_result"
    }
   ],
   "source": [
    "def projection(F:list):\n",
    "    F = [R(f) for f in F]\n",
    "    G = []\n",
    "    \n",
    "    # step1: F_1の計算\n",
    "    for f in F:\n",
    "        for term in f.coefficients():\n",
    "            term = term/term.lc() # 先頭項を1にする(こういうのは2変数でしかダメっぽい)\n",
    "            if term.degree()>0 and term not in G:\n",
    "                G.append(term)\n",
    "    # step2: F_2の計算 \n",
    "    for f in F:\n",
    "        for l in range(f.degree()+1):\n",
    "            for k in range(l, f.degree()+1):\n",
    "                for i in range(l+1):\n",
    "                    if T(k,f).diff()==0:\n",
    "                        continue\n",
    "                    pscs = [term.leading_coefficient() for term in T(k,f).subresultants(T(k,f).diff())]\n",
    "                    pscs = [term/term.lc() for term in pscs] # 先頭項を1にする\n",
    "                    for psc in pscs: \n",
    "                        if psc.degree()>0 and psc not in G:\n",
    "                            G.append(psc)\n",
    "    # step3: F_3の計算\n",
    "    for f in F:\n",
    "        for g in F:\n",
    "            if f==g:\n",
    "                continue\n",
    "            for l in range(min(f.degree(),g.degree())+1):\n",
    "                for k in range(l,f.degree()+1):\n",
    "                    for j in range(l, f.degree()+1):\n",
    "                        if T(k,f)==0 or T(j,g)==0:\n",
    "                            continue\n",
    "                        pscs = [term.leading_coefficient() for term in T(k,f).subresultants(T(j,g))]\n",
    "                        pscs = [term/term.lc() for term in pscs] # 先頭項を1にする\n",
    "                        for psc in pscs:\n",
    "                            if psc.degree()>0 and psc not in G:\n",
    "                                G.append(psc)\n",
    "    \n",
    "    return G"
   ]
  },
  {
   "cell_type": "code",
   "execution_count": 123,
   "metadata": {},
   "outputs": [
    {
     "data": {
      "text/plain": [
       "[y, y^3 - 4]"
      ]
     },
     "execution_count": 123,
     "metadata": {},
     "output_type": "execute_result"
    }
   ],
   "source": [
    "#実験\n",
    "G = projection(F);G"
   ]
  },
  {
   "cell_type": "markdown",
   "metadata": {},
   "source": [
    "## 底段階\n",
    "\n",
    "射影段階で求めた1変数多項式の族 $ G $ 不変な $ \\mathbb{R} $ のセル分割を与える.\n",
    "- 根の絶対値の限界を係数から評価する.\n",
    "- \"実根の分離\"をすべて求める.\n",
    "- 実根を解にもつ既約多項式を求める.\n"
   ]
  },
  {
   "cell_type": "markdown",
   "metadata": {},
   "source": [
    "まず, スツルム列を用いた, 多項式 $ f(x) $ の $ (a,b] $ 上の実根の数を返す関数`count_root`を定義する.<p>\n",
    "$ f(a) \\neq 0, f(b) \\neq 0 $ を満たしている必要があるので注意が必要である."
   ]
  },
  {
   "cell_type": "code",
   "execution_count": 5,
   "metadata": {},
   "outputs": [],
   "source": [
    "# 多項式f(x)の(a,b]上の異なる実根の数を返す関数\n",
    "def count_root(f, a, b):\n",
    "    if f in RR:\n",
    "        return 0\n",
    "    \n",
    "    # スツルム列\n",
    "    S = [f, f.diff()]\n",
    "    \n",
    "    while(True):\n",
    "        if S[-2] % S[-1] == 0:\n",
    "            break\n",
    "        else:\n",
    "            S.append(- (S[-2] % S[-1]))\n",
    "\n",
    "    S_a = [s(a) for s in S]\n",
    "    S_b = [s(b) for s in S]\n",
    "    \n",
    "    return v(S_a) - v(S_b)\n",
    "\n",
    "# 実数列lstから符号の変化数v(lst)を計算する        \n",
    "def v(lst):\n",
    "    lst_sign = [bool(x>0) for x in lst if x!=0] #lstから符号列を計算\n",
    "    count = 0\n",
    "    for i in range(1,len(lst_sign)):\n",
    "        if lst_sign[i] != lst_sign[i-1]:\n",
    "            count += 1\n",
    "    return count"
   ]
  },
  {
   "cell_type": "markdown",
   "metadata": {},
   "source": [
    "多項式のからその解の絶対値の上界を計算する`bound_sol(f)`を定義する."
   ]
  },
  {
   "cell_type": "code",
   "execution_count": 97,
   "metadata": {},
   "outputs": [],
   "source": [
    "def bound_sol(f):\n",
    "    f = f/f.lc()\n",
    "    lst = f.coefficients(sparse=False)\n",
    "    return 1 + max(abs(a/lst[-1]) for a in lst[:-1])"
   ]
  },
  {
   "cell_type": "markdown",
   "metadata": {},
   "source": [
    "底段階の実装"
   ]
  },
  {
   "cell_type": "code",
   "execution_count": 125,
   "metadata": {},
   "outputs": [],
   "source": [
    "def base(F:list, eps = 10^(-5)):\n",
    "    # Fを既約多項式に分解して新たにIEE_Fとする:\n",
    "    F = [f(y) for f in F]\n",
    "    IRR_F = []\n",
    "    for f in F:\n",
    "        IRR_F += [g[0] for g in f.factor_list() if g[0] not in RR ]\n",
    "    IRR_F = [PolynomialRing(QQ,\"y\")(f)for f in set(IRR_F)]\n",
    "    \n",
    "    # 解の絶対値の上界Mを求める\n",
    "    M=max(bound_sol(f) for f in IRR_F)\n",
    "    \n",
    "    # 各既約多項式の解を求める.\n",
    "    ans = []\n",
    "    lst = [(-M,M,IRR_F)]\n",
    "    while(len(lst)!=0):\n",
    "        a,b,F = lst.pop()\n",
    "        if(b-a<eps and len(F)==1):\n",
    "            ans.append((a,b,F))\n",
    "            continue\n",
    "        if(len(F)==0):\n",
    "            continue\n",
    "        else:\n",
    "            c = (a+b)/2\n",
    "            F1 = [f for f in F if count_root(f,a,c)>0]\n",
    "            F2 = [f for f in F if count_root(f,c,b)>0]\n",
    "            if len(F1)>0:\n",
    "                lst.append((a,c,F1))\n",
    "            if len(F2)>0:\n",
    "                lst.append((c,b,F2))\n",
    "    return [(F[0],a,b) for a, b, F in ans] \n",
    "            "
   ]
  },
  {
   "cell_type": "code",
   "execution_count": 126,
   "metadata": {},
   "outputs": [
    {
     "data": {
      "text/plain": [
       "[(y^3 - 4, 832255/524288, 208065/131072), (y, -5/524288, 0)]"
      ]
     },
     "execution_count": 126,
     "metadata": {},
     "output_type": "execute_result"
    }
   ],
   "source": [
    "# 実験\n",
    "base(G)"
   ]
  },
  {
   "cell_type": "markdown",
   "metadata": {},
   "source": [
    "## 持ち上げ段階(未実装)\n",
    "\n",
    "底段階で求めたセル分割を, $ \\mathbb{R}^2 $ のセル分割に持ち上げる.\n",
    "\n"
   ]
  },
  {
   "cell_type": "code",
   "execution_count": 124,
   "metadata": {},
   "outputs": [
    {
     "data": {
      "text/plain": [
       "[x^2 - y, x*y - 2]"
      ]
     },
     "execution_count": 124,
     "metadata": {},
     "output_type": "execute_result"
    }
   ],
   "source": [
    "F"
   ]
  },
  {
   "cell_type": "code",
   "execution_count": 89,
   "metadata": {},
   "outputs": [
    {
     "data": {
      "text/plain": [
       "2"
      ]
     },
     "execution_count": 89,
     "metadata": {},
     "output_type": "execute_result"
    }
   ],
   "source": [
    "lst = [0,1,2]\n",
    "lst.pop()"
   ]
  },
  {
   "cell_type": "code",
   "execution_count": null,
   "metadata": {},
   "outputs": [],
   "source": []
  }
 ],
 "metadata": {
  "kernelspec": {
   "display_name": "SageMath 9.3",
   "language": "sage",
   "name": "sagemath"
  },
  "language_info": {
   "codemirror_mode": {
    "name": "ipython",
    "version": 3
   },
   "file_extension": ".py",
   "mimetype": "text/x-python",
   "name": "python",
   "nbconvert_exporter": "python",
   "pygments_lexer": "ipython3",
   "version": "3.7.10"
  }
 },
 "nbformat": 4,
 "nbformat_minor": 4
}
