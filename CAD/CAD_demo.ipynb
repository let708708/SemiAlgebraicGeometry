{
 "cells": [
  {
   "cell_type": "markdown",
   "metadata": {},
   "source": [
    "# CAD(2変数バージョン)\n",
    "\n",
    "このスクリプトでは, CADを次の3つの段階に分けて行う.\n",
    "\n",
    "- 射影段階: CADを与える多項式族の次数を下げる.\n",
    "- 底段階:\n",
    "- 持ち上げ段階:\n",
    "\n",
    "まずは簡単のために多項式の**変数が2個の場合に限り**実装する.\n",
    "その場合, 射影段階と持ち上げ段階の操作は1回で済む."
   ]
  },
  {
   "cell_type": "code",
   "execution_count": 4,
   "metadata": {},
   "outputs": [],
   "source": [
    "x,y = var(\"x y\")\n",
    "R = PolynomialRing(PolynomialRing(QQ,\"y\"),\"x\")\n",
    "\n",
    "F = [x^2+y^2-1,x^2-y^3] # ここにCADしたい多項式のリストを渡す"
   ]
  },
  {
   "cell_type": "markdown",
   "metadata": {},
   "source": [
    "## 射影段階\n",
    "\n",
    "2変数多項式の族$ F $が与えられたとき, 1変数多項式の族$ F_1 \\cup F_2 \\cup F_3 $を次のように構成する.\n",
    "\n",
    "- $ F_1 $: $ f \\, (f \\in F) $の変数yに対する係数の多項式全体\n",
    "- $ F_2 $: $ \\mathrm{gcd}(f, df/dx) \\, (f \\in F) $の変数yに対する係数の多項式全体\n",
    "- $ F_3 $: $ \\mathrm{gcd}(f, g) \\, (f \\neq g \\in F) $の変数yに対する係数の多項式全体"
   ]
  },
  {
   "cell_type": "code",
   "execution_count": 2,
   "metadata": {},
   "outputs": [],
   "source": [
    "# 変数xについてk次以下の部分を取り出す関数\n",
    "def T(k,f):\n",
    "    return f.mod(R(x^(k+1)))"
   ]
  },
  {
   "cell_type": "code",
   "execution_count": 5,
   "metadata": {
    "scrolled": true
   },
   "outputs": [
    {
     "data": {
      "text/plain": [
       "[y^2 - 1, y^3, y^6 + 2*y^5 + y^4 - 2*y^3 - 2*y^2 + 1, y^3 + y^2 - 1]"
      ]
     },
     "execution_count": 5,
     "metadata": {},
     "output_type": "execute_result"
    }
   ],
   "source": [
    "def projection(F:list):\n",
    "    F = [R(f) for f in F]\n",
    "    G = []\n",
    "    \n",
    "    # step1: F_1の計算\n",
    "    for f in F:\n",
    "        for term in f.coefficients():\n",
    "            term = term/term.lc() # 先頭項を1にする(こういうのは2変数でしかダメっぽい)\n",
    "            if term.degree()>0 and term not in G:\n",
    "                G.append(term)\n",
    "    # step2: F_2の計算 \n",
    "    for f in F:\n",
    "        for l in range(f.degree()+1):\n",
    "            for k in range(l, f.degree()+1):\n",
    "                for i in range(l+1):\n",
    "                    if T(k,f).diff()==0:\n",
    "                        continue\n",
    "                    pscs = [term.leading_coefficient() for term in T(k,f).subresultants(T(k,f).diff())]\n",
    "                    pscs = [term/term.lc() for term in pscs] # 先頭項を1にする\n",
    "                    for psc in pscs: \n",
    "                        if psc.degree()>0 and psc not in G:\n",
    "                            G.append(psc)\n",
    "    # step3: F_3の計算\n",
    "    for f in F:\n",
    "        for g in F:\n",
    "            if f==g:\n",
    "                continue\n",
    "            for l in range(min(f.degree(),g.degree())+1):\n",
    "                for k in range(l,f.degree()+1):\n",
    "                    for j in range(l, f.degree()+1):\n",
    "                        if T(k,f)==0 or T(j,g)==0:\n",
    "                            continue\n",
    "                        pscs = [term.leading_coefficient() for term in T(k,f).subresultants(T(j,g))]\n",
    "                        pscs = [term/term.lc() for term in pscs] # 先頭項を1にする\n",
    "                        for psc in pscs:\n",
    "                            if psc.degree()>0 and psc not in G:\n",
    "                                G.append(psc)\n",
    "    \n",
    "    return G\n",
    "\n",
    "G = projection(F);G"
   ]
  },
  {
   "cell_type": "markdown",
   "metadata": {},
   "source": [
    "## 底段階(未実装)\n",
    "\n",
    "射影段階で求めた1変数多項式の族 $ G $ 不変な $ \\mathbb{R} $ のセル分割を与える."
   ]
  },
  {
   "cell_type": "markdown",
   "metadata": {},
   "source": [
    "## 持ち上げ段階(未実装)\n",
    "\n",
    "底段階で求めたセル分割を, $ \\mathbb{R}^2 $ のセル分割に持ち上げる.\n",
    "\n",
    "> **有理数でない点での持ち上げ方についてまだ分かっていない.**"
   ]
  },
  {
   "cell_type": "code",
   "execution_count": null,
   "metadata": {},
   "outputs": [],
   "source": []
  }
 ],
 "metadata": {
  "kernelspec": {
   "display_name": "SageMath 9.3",
   "language": "sage",
   "name": "sagemath"
  },
  "language_info": {
   "codemirror_mode": {
    "name": "ipython",
    "version": 3
   },
   "file_extension": ".py",
   "mimetype": "text/x-python",
   "name": "python",
   "nbconvert_exporter": "python",
   "pygments_lexer": "ipython3",
   "version": "3.7.10"
  }
 },
 "nbformat": 4,
 "nbformat_minor": 4
}
