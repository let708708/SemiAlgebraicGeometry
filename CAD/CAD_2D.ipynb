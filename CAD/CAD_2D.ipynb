{
 "cells": [
  {
   "cell_type": "markdown",
   "metadata": {},
   "source": [
    "# CAD(2変数バージョン)\n",
    "\n",
    "このスクリプトでは, CADを次の3つの段階に分けて行う.\n",
    "\n",
    "- 射影段階: CADを与える多項式族の次数を下げる.\n",
    "- 底段階:\n",
    "- 持ち上げ段階:\n",
    "\n",
    "まずは簡単のために多項式の**変数が2個の場合に限り**実装する.\n",
    "その場合, 射影段階と持ち上げ段階の操作は1回で済む."
   ]
  },
  {
   "cell_type": "code",
   "execution_count": 1,
   "metadata": {},
   "outputs": [],
   "source": [
    "x,y = var(\"x y\")\n",
    "R = PolynomialRing(PolynomialRing(QQ,\"y\"),\"x\") # R=R[y][x]のこと.\n",
    "\n",
    "# ここにCADしたい多項式のリストを渡す\n",
    "#F = [x^2+y^2-1,x^2-y^3] \n",
    "F = [x^2+y^2-1,x^2-y^3]"
   ]
  },
  {
   "cell_type": "markdown",
   "metadata": {},
   "source": [
    "## 射影段階\n",
    "\n",
    "2変数多項式の族$ F $が与えられたとき, 1変数多項式の族$ F_1 \\cup F_2 \\cup F_3 $を次のように構成する.\n",
    "\n",
    "- $ F_1 $: $ f \\, (f \\in F) $の変数yに対する係数の多項式全体\n",
    "- $ F_2 $: $ \\mathrm{gcd}(f, df/dx) \\, (f \\in F) $の変数yに対する係数の多項式全体\n",
    "- $ F_3 $: $ \\mathrm{gcd}(f, g) \\, (f \\neq g \\in F) $の変数yに対する係数の多項式全体"
   ]
  },
  {
   "cell_type": "code",
   "execution_count": 2,
   "metadata": {},
   "outputs": [],
   "source": [
    "# 変数xについてk次以下の部分を取り出す関数\n",
    "def T(k,f):\n",
    "    return f.mod(R(x^(k+1)))\n",
    "\n",
    "# 与えられた関数をmonicにする"
   ]
  },
  {
   "cell_type": "code",
   "execution_count": 3,
   "metadata": {
    "scrolled": true
   },
   "outputs": [],
   "source": [
    "def projection(F:list):\n",
    "    F = [R(f) for f in F]\n",
    "    G = []\n",
    "    \n",
    "    # step1: F_1の計算\n",
    "    for f in F:\n",
    "        for term in f.coefficients():\n",
    "            term = term/term.lc() # 先頭項を1にする(こういうのは2変数でしかダメっぽい)\n",
    "            if term.degree()>0 and term not in G:\n",
    "                G.append(term)\n",
    "    # step2: F_2の計算 \n",
    "    for f in F:\n",
    "        for l in range(f.degree()+1):\n",
    "            for k in range(l, f.degree()+1):\n",
    "                for i in range(l+1):\n",
    "                    if T(k,f).diff()==0:\n",
    "                        continue\n",
    "                    pscs = [term.leading_coefficient() for term in T(k,f).subresultants(T(k,f).diff())]\n",
    "                    pscs = [term/term.lc() for term in pscs] # 先頭項を1にする\n",
    "                    for psc in pscs: \n",
    "                        if psc.degree()>0 and psc not in G:\n",
    "                            G.append(psc)\n",
    "    # step3: F_3の計算\n",
    "    for f in F:\n",
    "        for g in F:\n",
    "            if f==g:\n",
    "                continue\n",
    "            for l in range(min(f.degree(),g.degree())+1):\n",
    "                for k in range(l,f.degree()+1):\n",
    "                    for j in range(l, f.degree()+1):\n",
    "                        if T(k,f)==0 or T(j,g)==0:\n",
    "                            continue\n",
    "                        pscs = [term.leading_coefficient() for term in T(k,f).subresultants(T(j,g))]\n",
    "                        pscs = [term/term.lc() for term in pscs] # 先頭項を1にする\n",
    "                        for psc in pscs:\n",
    "                            if psc.degree()>0 and psc not in G:\n",
    "                                G.append(psc)\n",
    "    \n",
    "    return G"
   ]
  },
  {
   "cell_type": "code",
   "execution_count": 4,
   "metadata": {},
   "outputs": [
    {
     "data": {
      "text/plain": [
       "[y^2 - 1, y^3, y^6 + 2*y^5 + y^4 - 2*y^3 - 2*y^2 + 1, y^3 + y^2 - 1]"
      ]
     },
     "execution_count": 4,
     "metadata": {},
     "output_type": "execute_result"
    }
   ],
   "source": [
    "#実験\n",
    "G = projection(F);G"
   ]
  },
  {
   "cell_type": "markdown",
   "metadata": {},
   "source": [
    "## 底段階\n",
    "\n",
    "射影段階で求めた1変数多項式の族 $ G $ 不変な $ \\mathbb{R} $ のセル分割を与える.\n",
    "- 根の絶対値の限界を係数から評価する.\n",
    "- \"実根の分離\"をすべて求める.\n",
    "- 実根を解にもつ既約多項式を求める.\n"
   ]
  },
  {
   "cell_type": "markdown",
   "metadata": {},
   "source": [
    "まず, スツルム列を用いた, 多項式 $ f(x) $ の $ (a,b] $ 上の実根の数を返す関数`count_root`を定義する.<p>\n",
    "$ f(a) \\neq 0, f(b) \\neq 0 $ を満たしている必要があるので注意が必要である."
   ]
  },
  {
   "cell_type": "code",
   "execution_count": 5,
   "metadata": {},
   "outputs": [],
   "source": [
    "# 多項式f(x)の(a,b]上の異なる実根の数を返す関数\n",
    "def count_root(f, a, b):\n",
    "    if f in RR:\n",
    "        return 0\n",
    "    \n",
    "    # スツルム列\n",
    "    S = [f, f.diff()]\n",
    "    \n",
    "    while(True):\n",
    "        if S[-2] % S[-1] == 0:\n",
    "            break\n",
    "        else:\n",
    "            S.append(- (S[-2] % S[-1]))\n",
    "\n",
    "    S_a = [s(a) for s in S]\n",
    "    S_b = [s(b) for s in S]\n",
    "    \n",
    "    return v(S_a) - v(S_b)\n",
    "\n",
    "# 実数列lstから符号の変化数v(lst)を計算する        \n",
    "def v(lst):\n",
    "    lst_sign = [bool(x>0) for x in lst if x!=0] #lstから符号列を計算\n",
    "    count = 0\n",
    "    for i in range(1,len(lst_sign)):\n",
    "        if lst_sign[i] != lst_sign[i-1]:\n",
    "            count += 1\n",
    "    return count"
   ]
  },
  {
   "cell_type": "markdown",
   "metadata": {},
   "source": [
    "多項式のからその解の絶対値の上界を計算する`bound_sol(f)`を定義する."
   ]
  },
  {
   "cell_type": "code",
   "execution_count": 6,
   "metadata": {},
   "outputs": [],
   "source": [
    "def bound_sol(f):\n",
    "    f = f/f.lc()\n",
    "    lst = f.coefficients(sparse=False)\n",
    "    return 1 + max(abs(a/lst[-1]) for a in lst[:-1])"
   ]
  },
  {
   "cell_type": "markdown",
   "metadata": {},
   "source": [
    "底段階の実装"
   ]
  },
  {
   "cell_type": "code",
   "execution_count": 7,
   "metadata": {},
   "outputs": [],
   "source": [
    "def base(F:list, eps = 10^(-5)):\n",
    "    # Fを既約多項式に分解して新たにIEE_Fとする:\n",
    "    F = [f(y) for f in F]\n",
    "    IRR_F = []\n",
    "    for f in F:\n",
    "        IRR_F += [g[0] for g in f.factor_list() if g[0] not in RR ]\n",
    "    IRR_F = [PolynomialRing(QQ,\"y\")(f)for f in set(IRR_F)]\n",
    "    \n",
    "    # 解の絶対値の上界Mを求める\n",
    "    M=max(bound_sol(f) for f in IRR_F)\n",
    "    \n",
    "    # 各既約多項式の解を求める.\n",
    "    ans = []\n",
    "    lst = [(-M,M,IRR_F)]\n",
    "    while(len(lst)!=0):\n",
    "        a,b,F = lst.pop()\n",
    "        if(b-a<eps and len(F)==1):\n",
    "            ans.append((a,b,F))\n",
    "            continue\n",
    "        if(len(F)==0):\n",
    "            continue\n",
    "        else:\n",
    "            c = (a+b)/2\n",
    "            F1 = [f for f in F if count_root(f,a,c)>0]\n",
    "            F2 = [f for f in F if count_root(f,c,b)>0]\n",
    "            if len(F1)>0:\n",
    "                lst.append((a,c,F1))\n",
    "            if len(F2)>0:\n",
    "                lst.append((c,b,F2))\n",
    "    ans = sorted([(a,b,F[0]) for a, b, F in ans])\n",
    "    return [(f,a,b) for a, b, f in ans]\n",
    "            "
   ]
  },
  {
   "cell_type": "code",
   "execution_count": 8,
   "metadata": {},
   "outputs": [
    {
     "data": {
      "text/plain": [
       "[(y + 1, -131073/131072, -1),\n",
       " (y, -1/131072, 0),\n",
       " (y^3 + y^2 - 1, 98943/131072, 773/1024),\n",
       " (y - 1, 131071/131072, 1)]"
      ]
     },
     "execution_count": 8,
     "metadata": {},
     "output_type": "execute_result"
    }
   ],
   "source": [
    "# 実験\n",
    "Sol = base(G);Sol"
   ]
  },
  {
   "cell_type": "markdown",
   "metadata": {},
   "source": [
    "## 持ち上げ段階(未実装)\n",
    "\n",
    "底段階で求めたセル分割を, $ \\mathbb{R}^2 $ のセル分割に持ち上げる.\n",
    "\n",
    "- 底段階で取得した解から, sample points を取得する.\n",
    "- サンプルxが有理数の場合→まったく同様にしてyのsamplepointを取得する.\n",
    "- サンプルxが無理数の場合→ここは改良が必要. だが, やることは同じ."
   ]
  },
  {
   "cell_type": "code",
   "execution_count": 9,
   "metadata": {},
   "outputs": [],
   "source": [
    "def first_decomp(Sol:list, eps = 10^(-5)):\n",
    "    # Solutionから, R^1のセル分割を行う.\n",
    "    R = PolynomialRing(QQ, \"y\")\n",
    "    ans = []\n",
    "    if len(Sol)==0:\n",
    "        ans += [(R(y), 0, 0)]\n",
    "        \n",
    "    elif len(Sol)==1:\n",
    "        f,a,b = Sol[0]\n",
    "        ans += [(R(y-(a-1)), a-1, a-1), (f,a,b), (R(y-(b+1)), b+1, b+1)]\n",
    "        \n",
    "    else:\n",
    "        f_prev, a_prev, b_prev = Sol[0]\n",
    "        ans += [(R(y-(a_prev-1)), a_prev-1, a_prev-1)]\n",
    "        ans += [(f_prev, a_prev, b_prev)]\n",
    "        for f_new, a_new, b_new in Sol[1:]:\n",
    "            c = (b_prev + a_new)/2\n",
    "            ans += [(PolynomialRing(QQ, \"y\")(y-c),c,c)]\n",
    "            ans += [(f_new,a_new,b_new)]\n",
    "            f_prev , a_prev, b_prev = f_new, a_new, b_new\n",
    "        ans += [(R(y-(b_new+1)), b_new+1, b_new+1)]\n",
    "    \n",
    "    return ans    "
   ]
  },
  {
   "cell_type": "code",
   "execution_count": 11,
   "metadata": {},
   "outputs": [
    {
     "data": {
      "text/plain": [
       "[(y + 262145/131072, -262145/131072, -262145/131072),\n",
       " (y + 1, -131073/131072, -1),\n",
       " (y + 131073/262144, -131073/262144, -131073/262144),\n",
       " (y, -1/131072, 0),\n",
       " (y - 98943/262144, 98943/262144, 98943/262144),\n",
       " (y^3 + y^2 - 1, 98943/131072, 773/1024),\n",
       " (y - 230015/262144, 230015/262144, 230015/262144),\n",
       " (y - 1, 131071/131072, 1),\n",
       " (y - 2, 2, 2)]"
      ]
     },
     "execution_count": 11,
     "metadata": {},
     "output_type": "execute_result"
    }
   ],
   "source": [
    "# 実験\n",
    "Cells = first_decomp(Sol); Cells"
   ]
  },
  {
   "cell_type": "markdown",
   "metadata": {},
   "source": [
    "ここまででR^1のセル分割はできたはず. なので, 次は各サンプルポイントにおけるFの解を取得する.\n",
    "- 有理数, つまり, 既約多項式の次数が1の場合は全く同様にしてセル分割ができるはず.\n",
    "- 有理数でない場合, 符号判定の際にちょっとだけ特殊な方法を使わなければならない. \n",
    "\n",
    "```python\n",
    "    for sample_point in cell:\n",
    "        if sample_point in QQ:\n",
    "            F_sub = [f(y=sample_point) for f in F]\n",
    "            first_decomp(base(F_sub)) # これでできたリストを新しく追加する.\n",
    "        if sample_point not in QQ:\n",
    "            F_sub = [f(y=sample_point) for f in F] # これは有理数係数多項式のリスト. \n",
    "```\n",
    "> これ以降はどうすればよいかの考察:\n",
    "> - 代入した時点でQ(alpha)係数の多項式リスト$Fsub \\subset \\mathbb{Q}(\\alpha)[x]$が与えられる.\n",
    "> - 各多項式を既約多項式に分解する。係数が$\\mathbb{Q}(\\alpha)$なので, 実際にどうすればよいかわからないが.\n",
    "> - **具体的にわからないこと:**\n",
    ">   + **既約多項式に分解するアルゴリズム**\n",
    ">   + **Q(alpha)上既約な多項式g(x)から, Q上既約な多項式h(x)に変換する方法**\n",
    "> - 各既約多項式に対して, それらの解がすべて含まれるような上界Mを取得する.\n",
    "> - 既約多項式の集合に対して, 二分探索的に解を取得していく."
   ]
  },
  {
   "cell_type": "code",
   "execution_count": 13,
   "metadata": {},
   "outputs": [],
   "source": [
    "def lifting(cells:list, F:list):\n",
    "    ans = [] # ここにセルのリストを設定する.\n",
    "    R = PolynomialRing(QQ, \"x\")\n",
    "    for f,a,b in cells:\n",
    "        if f.degree()==1:\n",
    "            y_0 = -f.constant_coefficient()/f.lc()\n",
    "            F_lift = [R(g(y=y_0)) for g in F]\n",
    "            new_cells = [(R(g(y=x)),c,d) for g,c,d in first_decomp(base(F_lift))]\n",
    "            ans += [((g,c,d),(f,a,b)) for (g,c,d) in new_cells]\n",
    "        else:\n",
    "            pass\n",
    "            ################################# ここを書く #################################\n",
    "            \n",
    "    return ans"
   ]
  },
  {
   "cell_type": "code",
   "execution_count": null,
   "metadata": {},
   "outputs": [],
   "source": []
  },
  {
   "cell_type": "code",
   "execution_count": 15,
   "metadata": {},
   "outputs": [],
   "source": [
    "def show(cells:list):\n",
    "    ans=[]\n",
    "    for cell in cells:\n",
    "        (f,a,b),(g,c,d) = cell\n",
    "        if f.degree()==1:\n",
    "            x_0=-f.constant_coefficient()/f.lc()\n",
    "        else:\n",
    "            x_0 = b\n",
    "        if g.degree()==1:\n",
    "            y_0 = -g.constant_coefficient()/f.lc()\n",
    "        else:\n",
    "            y_0 = d\n",
    "        ans += [(x_0,y_0)]\n",
    "    print(ans)\n"
   ]
  },
  {
   "cell_type": "code",
   "execution_count": 22,
   "metadata": {},
   "outputs": [
    {
     "name": "stdout",
     "output_type": "stream",
     "text": [
      "[(0, -262145/131072), (-131073/131072, -1), (0, -1), (1, -1), (-525239609194517/281474976710656, -131073/262144), (-15600816220144961/18014398509481984, -131073/262144), (0, -131073/262144), (243764632483861/281474976710656, -131073/262144), (525239609194517/281474976710656, -131073/262144), (-262145/131072, 0), (-1, 0), (-131073/262144, 0), (0, 0), (131071/262144, 0), (1, 0), (2, 0), (-17348183297260481/9007199254740992, 98943/262144), (-16681840435802755/18014398509481984, 98943/262144), (-10429580845600215/18014398509481984, 98943/262144), (-1044298401540363/4503599627370496, 98943/262144), (0, 98943/262144), (4177321255397675/18014398509481984, 98943/262144), (10429580845600215/18014398509481984, 98943/262144), (8340984042519489/9007199254740992, 98943/262144), (17348183297260481/9007199254740992, 98943/262144), (-8603728829442129762865/4722366482869645213696, 230015/262144), (-1940666081396659906905/2361183241434822606848, 230015/262144), (-768328098638338563345/1180591620717411303424, 230015/262144), (-2265262442534223957591/4722366482869645213696, 230015/262144), (0, 230015/262144), (1132646313156694346475/2361183241434822606848, 230015/262144), (768328098638338563345/1180591620717411303424, 230015/262144), (3881362346572484549169/4722366482869645213696, 230015/262144), (8603728829442129762865/4722366482869645213696, 230015/262144), (-262145/131072, 1), (-1, 1), (-131073/262144, 1), (0, 1), (131071/262144, 1), (1, 1), (2, 1), (-62725/16384, 2), (-2965815/1048576, 2), (0, 2), (46341/16384, 2), (62725/16384, 2)]\n"
     ]
    },
    {
     "data": {
      "text/plain": [
       "46"
      ]
     },
     "execution_count": 22,
     "metadata": {},
     "output_type": "execute_result"
    }
   ],
   "source": [
    "show(lifting(Cells, F))"
   ]
  },
  {
   "cell_type": "code",
   "execution_count": null,
   "metadata": {},
   "outputs": [],
   "source": []
  }
 ],
 "metadata": {
  "kernelspec": {
   "display_name": "SageMath 9.3",
   "language": "sage",
   "name": "sagemath"
  },
  "language_info": {
   "codemirror_mode": {
    "name": "ipython",
    "version": 3
   },
   "file_extension": ".py",
   "mimetype": "text/x-python",
   "name": "python",
   "nbconvert_exporter": "python",
   "pygments_lexer": "ipython3",
   "version": "3.7.10"
  }
 },
 "nbformat": 4,
 "nbformat_minor": 4
}
