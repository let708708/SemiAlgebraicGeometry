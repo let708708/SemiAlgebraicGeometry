{
 "cells": [
  {
   "cell_type": "markdown",
   "metadata": {},
   "source": [
    "# 2次元の場合のCAD\n",
    "\n",
    "このスクリプトでは, 2次元の場合のCADを実装する."
   ]
  },
  {
   "cell_type": "markdown",
   "metadata": {},
   "source": [
    "# 1. 理論背景(詳細部分はまだ書いていない)\n",
    "\n",
    "このパートは, \n",
    "\n",
    "- 穴井宏和, 横山和弘著, 「QEの計算アルゴリズムとその応用-数式処理による最適化-」\n",
    "\n",
    "を参考にしている. 用語も基本的にこの本に従う."
   ]
  },
  {
   "cell_type": "markdown",
   "metadata": {},
   "source": [
    "## 1.1. 動機付け"
   ]
  },
  {
   "cell_type": "markdown",
   "metadata": {},
   "source": [
    "### 定義\n",
    "$\\mathbb{R}^n$ の有限部分集合族 $\\mathfrak{D}$ が, \n",
    "\n",
    "- 任意の $D \\in \\mathfrak{D}$ は弧状連結集合,\n",
    "- 任意の $D_1, D_2 \\in \\mathfrak{D}$ について, $D_1 \\neq D_2$ ならば $D_1 \\cap D_2 = \\emptyset$,\n",
    "- $\\bigcup\\mathfrak{D} = \\mathbb{R}^n$\n",
    "\n",
    "を満たすとき, $\\mathfrak{D}$ を $\\mathbb{R}^n$ の**分割**という."
   ]
  },
  {
   "cell_type": "markdown",
   "metadata": {},
   "source": [
    "### 定義\n",
    "\n",
    "$ F \\subset \\mathbb{R}[x_1,\\dots,x_n] $とする.\n",
    "\n",
    "$ D \\subset \\mathbb{R}^n $ が $ F $-**符号不変**であるとは, \n",
    "任意の多項式 $ f \\in F $ に対し, $ f $ の符号が $ D $ 上一定であることと定義する.\n",
    "\n",
    "さらに, $\\mathbb{R}^n$ の分割 $ \\mathfrak{D} $ が\n",
    "\n",
    "- 任意の $D \\in \\mathfrak{D} $ に対して, D が $ F $-符号不変\n",
    "\n",
    "となるとき, $ \\mathfrak{D} $ を $ \\mathbb{R}^n $ の $ F $-**符号不変な分割** という."
   ]
  },
  {
   "cell_type": "markdown",
   "metadata": {},
   "source": [
    "有限部分集合 $ F \\subset \\mathbb{R}[x_1,\\dots,x_n] $ が与えられたとき, $\\mathbb{R}^n$ の $ F $-符号不変な分割(より正確には, その分割の代表点)を構成するアルゴリズムとして, CollinsのCAD(Cyrindrical Algebraic Decomposition)アルゴリズムが知られている. まず, そのアルゴリズムについて説明するための準備を行う."
   ]
  },
  {
   "cell_type": "markdown",
   "metadata": {},
   "source": [
    "## 1.2. 描画可能"
   ]
  },
  {
   "cell_type": "markdown",
   "metadata": {},
   "source": [
    "### 定義\n",
    "$ F \\subset \\mathbb{R}[x_1,\\dots,x_n] $ とする.\n",
    "$ S \\subset \\mathbb{R}^{n-1} $ が $ F $-**描画可能**であるとは, \n",
    "\n",
    "- 任意の $ x \\in S $ に対し, $ F $の解の個数, すなわち $ \\{y \\in \\mathbb{R} \\mid \\text{ある $f \\in F$ に対し f(x,y) = 0} \\} $ の元の個数が一定であり, \n",
    "- 各 $ x \\in S $ の $ F $ の解を $ f_1(x) < f_2(x) < \\dots < f_k(x) $ と書くとき, 各 $ f_i $ は $ S $ 上の実数値連続関数\n",
    "\n",
    "であることと定義する."
   ]
  },
  {
   "cell_type": "markdown",
   "metadata": {},
   "source": [
    "### 命題\n",
    "$ S \\subset \\mathbb{R}^{n-1} $, $ F \\subset \\mathbb{R}[x_1, \\dots, x_n] $ とする. \n",
    "次の3条件を満たすとき, $ S $ は $ F $-描画可能である.\n",
    "\n",
    "- 任意の$ f \\in F$ にたいし, $ S $ 上 $ f $ の重複度込みの複素数根の数は一定.\n",
    "- 任意の$ f \\in F$ に対し, $ S $ 上 $ f $ の相異なる複素数根の数は一定.\n",
    "- 相異なる任意の$ f,g \\in F $ に対し, S上 $ f,g $ の重複度込みの複素数根の数は一定.\n",
    "\n",
    "### 証明\n",
    "\n",
    "後で書く. \n",
    "<!-- Collinsの元論文を勉強した時のノートを読む. -->"
   ]
  },
  {
   "cell_type": "markdown",
   "metadata": {},
   "source": [
    "$ x \\in \\mathbb{R}^{n-1} $ を固定した時, $ f(x,y) \\in \\mathbb{R}[y] $ を $f_x(y)$ と書く.\n",
    "すると, 補題より, $x \\in \\mathbb{R}^{n-1} $ を固定するごとに, \n",
    "\n",
    "- $ \\mathrm{deg} f_x(y) \\quad f \\in F $,\n",
    "- $ \\mathrm{deg} (\\mathrm{gcd}(f_x, \\frac{\\partial f_x}{\\partial y}) ) \\quad f \\in F$,\n",
    "- $ \\mathrm{deg} (\\mathrm{gcd}(f_x, g_x)) \\quad f \\neq g \\in F $\n",
    "\n",
    "の値が一定になるような$ \\mathbb{R}^{n-1} $ の分割を与える必要がある. そのための準備を次の節で行う."
   ]
  },
  {
   "cell_type": "markdown",
   "metadata": {},
   "source": [
    "## 1.3. 主部分終結式係数(Principal Subresultant Coefficient)"
   ]
  },
  {
   "cell_type": "markdown",
   "metadata": {},
   "source": [
    "### 定義\n",
    "$ R $を可換環とし, $ A(x), B(x) \\in R[x] $を, $ \\mathrm{deg}A(x) = m, \\mathrm{deg}B(x) = n $とする.\n",
    "ただし, $deg0 = 0$と解釈する.\n",
    "\n",
    "$ j = 0, \\dots, \\mathrm{min}\\{n,m\\} $に対し, 多項式$ A(x), B(x) $の**j-部分終結式**を$ S_j(A,B) $とする. \n",
    "(行列書くのが面倒くさくて途中のものを省略)\n",
    "\n",
    "さらに, $ S_j(A,B) $の$ x^j $係数を, **j-主部分終結式係数**といい, $\\mathrm{psc}_j(A,B)$ と書く."
   ]
  },
  {
   "cell_type": "markdown",
   "metadata": {},
   "source": [
    "### 定理\n",
    "$ R $を体(一意分解整域でもよい？)とし, $ A(x) \\neq 0, B(x) \\neq 0 \\in R[x] $とする. 以下の二条件は必要十分条件である.\n",
    "- $\\mathrm{deg}(\\mathrm{gcd}(A, B)) = k$\n",
    "- $k = \\mathrm{min}\\{j = 0,1,\\dots \\mathrm{min}\\{n,m\\}\\mid psc_j(A,B) \\neq 0 \\} $"
   ]
  },
  {
   "cell_type": "markdown",
   "metadata": {},
   "source": [
    "### 定義\n",
    "\n",
    "$F \\subset \\mathbb{R}[x_1, \\dots, x_n]$とする.\n",
    "$ \\mathrm{PROJ}(F) $を, 次のように定義する:\n",
    "\n",
    "$ B = \\{ \\mathrm{red}^k(f) \\mid f \\in F, k=0,\\dots, \\mathrm{deg}(f) \\} $ とする.\n",
    "\n",
    "ただし$ \\mathrm{red}(f) := f - \\mathrm{LT}(f;x_n) $である.\n",
    "\n",
    "- $ \\mathrm{PROJ}_1(F) := \\{\\mathrm{LC}(f;x_n) \\mid f \\in B\\} $,\n",
    "- $ \\mathrm{PROJ}_2(F) := \\{\\mathrm{psc}_j(f, \\partial_{x_n}f;x_n)\\mid f\\in B, j = 0,1, \\dots, \\mathrm{deg}(\\partial_{x_n}f;x_n) \\}$\n",
    "- $ \\mathrm{PROJ}_3(F) := \\{\\mathrm{psc}_j(f, g;x_n) \\mid f, g \\in B \\}$\n",
    "\n",
    "以上を用いて, \n",
    "$ \\mathrm{PROJ}(F) := \\mathrm{PROJ}_1(F) \\cup \\mathrm{PROJ}_2(F) \\cup \\mathrm{PROJ}_3(F) $ と定義する."
   ]
  },
  {
   "cell_type": "markdown",
   "metadata": {},
   "source": [
    "### 系\n",
    "$ F \\in \\mathbb{R}[x_1, \\dots, x_n] $, $ S \\subset \\mathbb{R}^{n-1} $とする.\n",
    "\n",
    "$ S $ が $ \\mathrm{PROJ}(F) $ 符号不変ならば, $ S $は$ F $-描画可能である."
   ]
  },
  {
   "cell_type": "markdown",
   "metadata": {},
   "source": [
    "## 1.4. 符号不変な分割の存在"
   ]
  },
  {
   "cell_type": "markdown",
   "metadata": {},
   "source": [
    "### 定義\n",
    "$ F \\subset \\mathbb{R}[x_1,\\dots,x_n] $ を有限部分集合とする. $ S \\subset \\mathbb{R}^{n-1} $ が $ F $-描画可能とする.\n",
    "このとき, $ S $ 上の $ F $ の解を$ f_1(x)< \\dots <f_k(x) $とし, $ f_0(x) := -\\infty $ , $ f_{k+1}(x) := \\infty $ とするとき,\n",
    "\n",
    "- $ C_{2i} = \\{(x,y) \\mid  x \\in S, f_i(x) = y \\} \\quad i = 1,\\dots, k $ , \n",
    "- $ C_{2i+1} = \\{(x,y) \\mid x \\in S, f_{i}(x)<y<f_{i+1}(x) \\} \\quad i = 0,1, \\dots, k $\n",
    "\n",
    "とすれば, $\\{C_j\\}_{j=1}^{2k+1}$ は $ S \\times \\mathbb{R} $ の$F$-符号不変な分割を与える.\n",
    "この $ S \\times \\mathbb{R} $ の分割 $ \\{C_j\\}_{j=1}^{2k+1} $ を, $ S $ の**持ち上げ**といい, $ \\mathfrak{L}(S) $ と書く."
   ]
  },
  {
   "cell_type": "markdown",
   "metadata": {},
   "source": [
    "### 命題\n",
    "$ \\mathfrak{D} $ が, $\\mathbb{R}^{n-1}$ の $ \\mathrm{PROJ}(F) $-符号不変な分割であるとする.\n",
    "この時, \n",
    "\n",
    "- $ \\mathfrak{L}(\\mathfrak{D}) := \\bigcup _{D \\in \\mathfrak{D}} \\mathfrak{L}(D) $\n",
    "\n",
    "とすると, $ \\mathfrak{L}(\\mathfrak{D}) $ は $ \\mathbb{R}^n $ の $F$-符号不変な分割である.\n",
    "\n",
    "特に, $ \\mathfrak{D} $ が $ \\mathbb{R} $ の $ \\mathrm{PROJ}^{n-1}(F) $-符号不変な分割であるとする.\n",
    "この時, $ \\mathfrak{L}^{n-1}(\\mathfrak{D}) $ は$ \\mathbb{R}^n $ の $ F $-符号不変な分割である."
   ]
  },
  {
   "cell_type": "markdown",
   "metadata": {},
   "source": [
    "したがって, 有限部分集合 $ F \\subset \\mathbb{R}[x_1, \\dots, x_n] $ が与えられたとき, $ F $の符号不変な分割を取得するアルゴリズムは次のように表現される:\n"
   ]
  },
  {
   "cell_type": "markdown",
   "metadata": {},
   "source": [
    "### CADアルゴリズム\n",
    "\n",
    "```\n",
    "    INPUT: F: n-変数多項式からなる有限集合\n",
    "    OUTPUT: D: F-符号不変なn次元ユークリッド空間R^nの分割\n",
    "    ALGORITHM:\n",
    "        D = PROJ^{n-1}(F)-符号不変なR^1の分割\n",
    "        for i = n-2, ..., 0:\n",
    "            D = L(D); Dの持ち上げ\n",
    "        \n",
    "        return D\n",
    "```\n"
   ]
  },
  {
   "cell_type": "markdown",
   "metadata": {},
   "source": [
    "上記のアルゴリズムは, コンピュータ上で実装する際には, 各セルから代表元を取得したものを得ることになる.\n",
    "\n",
    "次の章では, 実際にSageMathでのCADアルゴリズムの実装を行う."
   ]
  },
  {
   "cell_type": "markdown",
   "metadata": {},
   "source": [
    "# 2. 実装(うまくいっているコードのみ記載)"
   ]
  },
  {
   "cell_type": "code",
   "execution_count": 5,
   "metadata": {},
   "outputs": [],
   "source": [
    "R.<x,y> = QQ[]\n",
    "\n",
    "# ここにCADしたい多項式のリストを渡す\n",
    "F = [x^2+y^2-1,x^2-y^3, x-y, x^3-10*x+y+y^2, y-x^2]"
   ]
  },
  {
   "cell_type": "markdown",
   "metadata": {},
   "source": [
    "## 射影段階"
   ]
  },
  {
   "cell_type": "code",
   "execution_count": 6,
   "metadata": {},
   "outputs": [],
   "source": [
    "# 主部分終結式係数全体(principal subresultant coefficient)\n",
    "# 一つ一つ出力するほうがわかりやすいが, sagemathはsubresultantsモジュールしか備えておらず, そのためすべてを出力するように実装する.\n",
    "def PSCs(f, g):\n",
    "    \"\"\"\n",
    "    deg(f)>= 0, deg(g)>= 0, つまり, f != 0, g!= 0を仮定する.\n",
    "    \"\"\"\n",
    "    if f == 0 or g == 0:\n",
    "        return False\n",
    "    psc_list = []\n",
    "    subres = f.subresultants(g)\n",
    "    for i in range(len(subres)):\n",
    "        if subres[i].degree()==i:\n",
    "            psc_list.append(subres[i].lc())\n",
    "        else:\n",
    "            psc_list.append(0)\n",
    "    \n",
    "    return psc_list"
   ]
  },
  {
   "cell_type": "code",
   "execution_count": 7,
   "metadata": {},
   "outputs": [],
   "source": [
    "def PROJ(F: set):\n",
    "    F = [f.polynamial(x) for f in F]\n",
    "    \n",
    "    # FのReductionをすべて計算し, その集合をBとする."
   ]
  },
  {
   "cell_type": "code",
   "execution_count": 8,
   "metadata": {},
   "outputs": [],
   "source": [
    "def PROJ(F:set):\n",
    "    \"\"\"\n",
    "    射影段階の実装\n",
    "    Input: n変数多項式sage.symbolic.expression.Expressionクラスの集合\n",
    "    Output: n変数多項式sage.symbolic.expression.Expressionクラスの集合\n",
    "    \"\"\"\n",
    "    F = [f.polynomial(x) for f in F]\n",
    "    \n",
    "    # FのReductionをすべて計算し, その集合をBとする\n",
    "    B = []\n",
    "    for f in F:\n",
    "        A = f\n",
    "        while(A != 0):\n",
    "            B.append(A)\n",
    "            A = A - A.lt()\n",
    "            \n",
    "    # Bの先頭項係数全体をLとする.\n",
    "    L = {b.lc() for b in B}\n",
    "\n",
    "    # PSC_k(b, b')全体をS1とする.\n",
    "    S1 = []\n",
    "    for b in B:\n",
    "        if b.degree()>0:\n",
    "            S1 = S1 + PSCs(b, b.diff())            \n",
    "    S1 = set(S1)\n",
    "    \n",
    "    # PSC_k(b_1, b_2)全体をS2とする.\n",
    "    S2 = []\n",
    "    for i in range(len(B)):\n",
    "        for j in range(i+1,len(B)):\n",
    "            S2 = S2 + PSCs(B[i],B[j])\n",
    "    S2 = set(S2)\n",
    "    \n",
    "    proj = {f for f in L | S1 | S2 if not f in RR}\n",
    "    return list(proj)"
   ]
  },
  {
   "cell_type": "code",
   "execution_count": 9,
   "metadata": {},
   "outputs": [],
   "source": [
    "#実験\n",
    "G = PROJ(F)"
   ]
  },
  {
   "cell_type": "markdown",
   "metadata": {},
   "source": [
    "## 底段階\n",
    "<!-- \n",
    "射影段階で求めた1変数多項式の族 $ G $ 不変な $ \\mathbb{R} $ のセル分割を与える.\n",
    "- 根の絶対値の限界を係数から評価する.\n",
    "- \"実根の分離\"をすべて求める.\n",
    "- 実根を解にもつ既約多項式を求める.\n",
    " -->\n",
    " \n",
    " <!-- まず, スツルム列を用いた, 多項式 $ f(x) $ の $ (a,b] $ 上の実根の数を返す関数`count_root`を定義する.<p>\n",
    "$ f(a) \\neq 0, f(b) \\neq 0 $ を満たしている必要があるので注意が必要である. -->"
   ]
  },
  {
   "cell_type": "code",
   "execution_count": 10,
   "metadata": {},
   "outputs": [
    {
     "data": {
      "text/plain": [
       "49"
      ]
     },
     "execution_count": 10,
     "metadata": {},
     "output_type": "execute_result"
    }
   ],
   "source": [
    "def base(F):\n",
    "    B = []\n",
    "    for g in F:\n",
    "        B += g.roots(AA, multiplicities = False)\n",
    "    B = list(set(B))\n",
    "    B.sort()\n",
    "    \n",
    "    ans = []\n",
    "    if(len(B) == 0):\n",
    "        ans.append(AA(0))\n",
    "    else:\n",
    "        ans.append(B[0]-1)\n",
    "        for i in range(len(B)-1):\n",
    "            ans.append(B[i])\n",
    "            ans.append((B[i]+B[i+1])/2)\n",
    "        ans.append(B[-1])\n",
    "        ans.append(B[-1]+1)\n",
    "        \n",
    "    return ans\n",
    "\n",
    "len(base(G))"
   ]
  },
  {
   "cell_type": "markdown",
   "metadata": {},
   "source": [
    "## 持ち上げ段階\n",
    "\n",
    "底段階で求めたセル分割を, $ \\mathbb{R}^2 $ のセル分割に持ち上げる."
   ]
  },
  {
   "cell_type": "code",
   "execution_count": 11,
   "metadata": {},
   "outputs": [
    {
     "data": {
      "text/plain": [
       "737"
      ]
     },
     "execution_count": 11,
     "metadata": {},
     "output_type": "execute_result"
    }
   ],
   "source": [
    "def lifting(Base, F):\n",
    "    ans = []\n",
    "    for b in Base:\n",
    "        F_1 = [f.polynomial(x)(y=b) for f in F]\n",
    "        for a in base(F_1):\n",
    "            ans.append((a,b))\n",
    "    return ans\n",
    "len(lifting(base(G), F))"
   ]
  }
 ],
 "metadata": {
  "kernelspec": {
   "display_name": "SageMath 9.3",
   "language": "sage",
   "name": "sagemath"
  },
  "language_info": {
   "codemirror_mode": {
    "name": "ipython",
    "version": 3
   },
   "file_extension": ".py",
   "mimetype": "text/x-python",
   "name": "python",
   "nbconvert_exporter": "python",
   "pygments_lexer": "ipython3",
   "version": "3.7.10"
  }
 },
 "nbformat": 4,
 "nbformat_minor": 4
}
