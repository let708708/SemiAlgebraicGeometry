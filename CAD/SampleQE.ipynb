{
 "cells": [
  {
   "cell_type": "markdown",
   "metadata": {},
   "source": [
    "# 量化子消去のアルゴリズム(具体的な命題文の場合)"
   ]
  },
  {
   "cell_type": "markdown",
   "metadata": {},
   "source": [
    "具体的に次の命題文について，量化子消去を行う．\n",
    "\n",
    "$\\forall x (x^2 + a^2 < 1 \\land a < x)$\n",
    "\n",
    "この命題文は, $-1<a<1/\\sqrt{2}$に同値である．\n",
    "\n",
    "この命題文に登場する多項式は$x^2 + a^2 - 1, a-x$のみである．"
   ]
  },
  {
   "cell_type": "code",
   "execution_count": 40,
   "metadata": {
    "scrolled": true
   },
   "outputs": [
    {
     "data": {
      "text/plain": [
       "[x^2 + a^2 - 1, -x + a]"
      ]
     },
     "execution_count": 40,
     "metadata": {},
     "output_type": "execute_result"
    }
   ],
   "source": [
    "R.<x,a> = QQ[]\n",
    "\n",
    "# # ここにCADしたい多項式のリストを渡す\n",
    "F = [x^2 + a^2-1,a-x];F"
   ]
  },
  {
   "cell_type": "markdown",
   "metadata": {},
   "source": [
    "量化子消去を行うためにCADを求める．まず，射影$G= \\mathrm{PROJ}(F)$をを求める．"
   ]
  },
  {
   "cell_type": "code",
   "execution_count": 41,
   "metadata": {},
   "outputs": [],
   "source": [
    "# 主部分終結式係数全体(principal subresultant coefficient)\n",
    "# 一つ一つ出力するほうがわかりやすいが, sagemathはsubresultantsモジュールしか備えておらず, そのためすべてを出力するように実装する.\n",
    "def PSCs(f, g):\n",
    "    \"\"\"\n",
    "    deg(f)>= 0, deg(g)>= 0, つまり, f != 0, g!= 0を仮定する.\n",
    "    \"\"\"\n",
    "    if f == 0 or g == 0:\n",
    "        return False\n",
    "    psc_list = []\n",
    "    subres = f.subresultants(g)\n",
    "    for i in range(len(subres)):\n",
    "        if subres[i].degree()==i:\n",
    "            psc_list.append(subres[i].lc())\n",
    "        else:\n",
    "            psc_list.append(0)\n",
    "    \n",
    "    return psc_list"
   ]
  },
  {
   "cell_type": "code",
   "execution_count": 42,
   "metadata": {},
   "outputs": [],
   "source": [
    "def PROJ(F):\n",
    "    R = F[0].parent()\n",
    "    F = [R(f).polynomial(R.gen()) for f in F]\n",
    "    \n",
    "    # FのReductionをすべて計算し, その集合をBとする\n",
    "    B = []\n",
    "    for f in F:\n",
    "        A = f\n",
    "        while(A != 0):\n",
    "            B.append(A)\n",
    "            A = A - A.lt()\n",
    "            \n",
    "    # Bの先頭項係数全体をLとする.\n",
    "    L = {b.lc() for b in B}\n",
    "\n",
    "    # PSC_k(b, b')全体をS1とする.\n",
    "    S1 = []\n",
    "    for b in B:\n",
    "        if b.degree()>0:\n",
    "            S1 = S1 + PSCs(b, b.diff())            \n",
    "    S1 = set(S1)\n",
    "    \n",
    "    # PSC_k(b_1, b_2)全体をS2とする.\n",
    "    S2 = []\n",
    "    for i in range(len(B)):\n",
    "        for j in range(i+1,len(B)):\n",
    "            S2 = S2 + PSCs(B[i],B[j])\n",
    "    S2 = set(S2)\n",
    "    \n",
    "    proj = {f for f in L | S1 | S2 if not f in RR}\n",
    "    return list(proj)"
   ]
  },
  {
   "cell_type": "code",
   "execution_count": 43,
   "metadata": {},
   "outputs": [
    {
     "data": {
      "text/plain": [
       "[a^2 - 1, a, 4*a^2 - 4, 2*a^2 - 1]"
      ]
     },
     "execution_count": 43,
     "metadata": {},
     "output_type": "execute_result"
    }
   ],
   "source": [
    "G = PROJ(F);G"
   ]
  },
  {
   "cell_type": "markdown",
   "metadata": {},
   "source": [
    "$G$不変な$\\mathbb{R}$の分割を求める．"
   ]
  },
  {
   "cell_type": "code",
   "execution_count": 30,
   "metadata": {},
   "outputs": [],
   "source": [
    "def base(F):\n",
    "    # 前処理: 定数となるようなFは除く.\n",
    "    F = [f for f in F if f not in AA]\n",
    "    \n",
    "    B = []\n",
    "    for g in F:\n",
    "        B += g.roots(AA, multiplicities = False)\n",
    "    B = list(set(B))\n",
    "    B.sort()\n",
    "    \n",
    "    ans = []\n",
    "    if(len(B) == 0):\n",
    "        ans.append(AA(0))\n",
    "    else:\n",
    "        ans.append(B[0]-1)\n",
    "        for i in range(len(B)-1):\n",
    "            ans.append(B[i])\n",
    "            ans.append((B[i]+B[i+1])/2)\n",
    "        ans.append(B[-1])\n",
    "        ans.append(B[-1]+1)\n",
    "    \n",
    "    ans = [(a,) for a in ans]\n",
    "    return ans\n"
   ]
  },
  {
   "cell_type": "code",
   "execution_count": 31,
   "metadata": {},
   "outputs": [
    {
     "data": {
      "text/plain": [
       "[(-2,),\n",
       " (-1,),\n",
       " (-0.8535533905932738?,),\n",
       " (-0.7071067811865475?,),\n",
       " (-0.3535533905932738?,),\n",
       " (0,),\n",
       " (0.3535533905932738?,),\n",
       " (0.7071067811865475?,),\n",
       " (0.8535533905932738?,),\n",
       " (1,),\n",
       " (2,)]"
      ]
     },
     "execution_count": 31,
     "metadata": {},
     "output_type": "execute_result"
    }
   ],
   "source": [
    "base(G)"
   ]
  },
  {
   "cell_type": "markdown",
   "metadata": {},
   "source": [
    "ここで求めた$\\mathbb{R}$の分割の各セルの定義式が問題となる．\n",
    "ここで，$G$の生成する微分で閉じた集合$AG$とすると, これは各セルを分離する定義式である．"
   ]
  },
  {
   "cell_type": "code",
   "execution_count": 36,
   "metadata": {},
   "outputs": [
    {
     "data": {
      "text/plain": [
       "2*a"
      ]
     },
     "execution_count": 36,
     "metadata": {},
     "output_type": "execute_result"
    }
   ],
   "source": [
    "f = x^2 + a^2\n",
    "f = R(f).polynomial(a)\n",
    "f.diff()"
   ]
  },
  {
   "cell_type": "code",
   "execution_count": 48,
   "metadata": {},
   "outputs": [],
   "source": [
    "def Augment(F):\n",
    "    R = F[0].parent()\n",
    "    F = [R(f).polynomial(R.gen()) for f in F]\n",
    "    \n",
    "    AF = []\n",
    "    for f in F:\n",
    "        while(f not in AA):\n",
    "            AF.append(f)\n",
    "            f = f.diff()\n",
    "    \n",
    "    AF = set(AF)\n",
    "    return AF"
   ]
  },
  {
   "cell_type": "code",
   "execution_count": 50,
   "metadata": {},
   "outputs": [
    {
     "data": {
      "text/plain": [
       "{a, 2*a, 4*a, 8*a, a^2 - 1, 2*a^2 - 1, 4*a^2 - 4}"
      ]
     },
     "execution_count": 50,
     "metadata": {},
     "output_type": "execute_result"
    }
   ],
   "source": [
    "AG = Augment(G);AG"
   ]
  },
  {
   "cell_type": "markdown",
   "metadata": {},
   "source": [
    "この集合$AG$は, 上で求めた$\\mathbb{R}$の定義式となる．"
   ]
  },
  {
   "cell_type": "code",
   "execution_count": 51,
   "metadata": {},
   "outputs": [],
   "source": [
    "def lifting(Base, F):\n",
    "    R = F[0].parent()\n",
    "    ans = []\n",
    "    for b in Base:\n",
    "        F_1 = [AA[f\"{R.gen()}\"](f((R.gen(),)+b)) for f in F]\n",
    "        for a in base(F_1):\n",
    "            ans.append(a+b)\n",
    "    return ans"
   ]
  },
  {
   "cell_type": "markdown",
   "metadata": {},
   "source": [
    "持ち上げを計算し, どのセルが条件式を満たしているかをチェックする．\n",
    "条件を満たすセルの代表点をすべて表示する．"
   ]
  },
  {
   "cell_type": "code",
   "execution_count": 73,
   "metadata": {},
   "outputs": [
    {
     "name": "stdout",
     "output_type": "stream",
     "text": [
      "[(-2,), (-1,), (-0.8535533905932738?,), (-0.7071067811865475?,), (-0.3535533905932738?,), (0,), (0.3535533905932738?,), (0.7071067811865475?,), (0.8535533905932738?,), (1,), (2,)]\n"
     ]
    }
   ],
   "source": [
    "G = PROJ(F)\n",
    "Base = base(G)\n",
    "print(Base)\n",
    "Samples = lifting(Base,F)"
   ]
  },
  {
   "cell_type": "code",
   "execution_count": 80,
   "metadata": {
    "scrolled": true
   },
   "outputs": [
    {
     "data": {
      "text/plain": [
       "[(-0.8535533905932738?,),\n",
       " (-0.7071067811865475?,),\n",
       " (-0.3535533905932738?,),\n",
       " (0,),\n",
       " (0.3535533905932738?,)]"
      ]
     },
     "execution_count": 80,
     "metadata": {},
     "output_type": "execute_result"
    }
   ],
   "source": [
    "# 条件を満たしているサンプルポイントのリスト:\n",
    "Satisfies = []\n",
    "for (b1,) in Base:\n",
    "    for (a,b2) in Samples:\n",
    "        if b1 == b2:\n",
    "            if F[0](a,b2)<0 and F[1](a,b2)<0:\n",
    "                Satisfies.append((b1,))\n",
    "                break\n",
    "Satisfies"
   ]
  },
  {
   "cell_type": "markdown",
   "metadata": {},
   "source": [
    "最後に，代数的命題文で記述する．簡単のため，AGは先頭項係数を0にしておく."
   ]
  },
  {
   "cell_type": "code",
   "execution_count": 88,
   "metadata": {},
   "outputs": [
    {
     "data": {
      "text/plain": [
       "{a, a^2 - 1, a^2 - 1/2}"
      ]
     },
     "execution_count": 88,
     "metadata": {},
     "output_type": "execute_result"
    }
   ],
   "source": [
    "AG = {g/g.lc() for g in AG};AG"
   ]
  },
  {
   "cell_type": "code",
   "execution_count": 98,
   "metadata": {},
   "outputs": [
    {
     "data": {
      "text/plain": [
       "['(a^2 - 1 < 0 and a < 0 and a^2 - 1/2 > 0)',\n",
       " '(a^2 - 1 < 0 and a < 0 and a^2 - 1/2 = 0)',\n",
       " '(a^2 - 1 < 0 and a < 0 and a^2 - 1/2 < 0)',\n",
       " '(a^2 - 1 < 0 and a = 0 and a^2 - 1/2 < 0)',\n",
       " '(a^2 - 1 < 0 and a > 0 and a^2 - 1/2 < 0)']"
      ]
     },
     "execution_count": 98,
     "metadata": {},
     "output_type": "execute_result"
    }
   ],
   "source": [
    "sentences = []\n",
    "for (b,) in Satisfies:\n",
    "        lst = []\n",
    "        for g in AG:\n",
    "            if g(b) > 0:\n",
    "                lst += [f\"{g} > 0\"]\n",
    "            elif g(b) == 0:\n",
    "                lst += [f\"{g} = 0\"]\n",
    "            elif g(b) < 0:\n",
    "                lst += [f\"{g} < 0\"]\n",
    "        sentences.append(\"(\" + \" and \".join(lst) + \")\")\n",
    "\n",
    "sentences       "
   ]
  },
  {
   "cell_type": "markdown",
   "metadata": {},
   "source": [
    "これらをorでつなげば, (一応)量化子消去が終了したことになる.たしかにこれは$-1 < a < 1/\\sqrt{2}$ではあるけども...．"
   ]
  },
  {
   "cell_type": "code",
   "execution_count": null,
   "metadata": {},
   "outputs": [],
   "source": []
  }
 ],
 "metadata": {
  "kernelspec": {
   "display_name": "SageMath 9.3",
   "language": "sage",
   "name": "sagemath"
  },
  "language_info": {
   "codemirror_mode": {
    "name": "ipython",
    "version": 3
   },
   "file_extension": ".py",
   "mimetype": "text/x-python",
   "name": "python",
   "nbconvert_exporter": "python",
   "pygments_lexer": "ipython3",
   "version": "3.7.10"
  }
 },
 "nbformat": 4,
 "nbformat_minor": 4
}
