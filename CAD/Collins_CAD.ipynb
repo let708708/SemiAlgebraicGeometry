{
 "cells": [
  {
   "cell_type": "markdown",
   "metadata": {},
   "source": [
    "# Quantifier Elimination for Real Closed Fields by Cylindrial Algebraic Decomposition\n",
    "\n",
    "　この論文は, CAD法やQEの計算理論に関する解説やそれらの解放手法を提案している論文を網羅的に集めた論文集\"Quantifier Elimination and Cylindrical Algebraic Decomposition\"(1996)に掲載された, George E. Collinsによる現論文である.\n",
    "\n",
    "　このノートブックは, CADの原理的な理解と実装を目的として作成する."
   ]
  },
  {
   "cell_type": "markdown",
   "metadata": {},
   "source": [
    "## 全体的な構造\n",
    "\n",
    "Collinsの方法は, 多項式や有限次拡大体の帰納的な性質を利用しているため, それを意識して対象を扱う.\n",
    "\n",
    "- 多項式は, $\\mathrm{R}[x_1][x_2] \\dots [x_r]$ という帰納的な構造を意識し, 任意の多項式は一意分解整域係数の1変数多項式とみなす. \n",
    "- 実代数的数は, 既約多項式$f_\\alpha(x)$と分離区間$[a.b]$の組で表す."
   ]
  },
  {
   "cell_type": "markdown",
   "metadata": {},
   "source": [
    "## 射影段階\n",
    "\n",
    "ここでは, 二つの関数を定義する.\n",
    "- PROJ(F):\n",
    "    + 入力: 一意分解整域 $U$ 係数1変数多項式環 $U[x]$ の有限部分集合F.\n",
    "    + 出力: 一意分解整域 $U$ の有限部分集合proj(F).\n",
    "- APROJ(F):\n",
    "    + 入力: 一意分解整域 $U$ 係数1変数多項式環 $U[x]$ の有限部分集合F.\n",
    "    + 出力: 一意分解整域 $U$ の有限部分集合aproj(F)."
   ]
  },
  {
   "cell_type": "markdown",
   "metadata": {},
   "source": [
    "1変数多項式に対する様々な基本的な作用."
   ]
  },
  {
   "cell_type": "code",
   "execution_count": 11,
   "metadata": {},
   "outputs": [],
   "source": [
    "# 多項式微分(derivation)\n",
    "def DER(f):\n",
    "    return f.diff()\n",
    "\n",
    "# 先頭係数(leading coefficient)\n",
    "def LC(f):\n",
    "    return f.lc()\n",
    "\n",
    "# 先頭項(leading term)\n",
    "def LT(f):\n",
    "    return f.lt()\n",
    "\n",
    "# 先頭単項式(leading monomial)\n",
    "def LM(f):\n",
    "    return f.lm()\n",
    "\n",
    "# 先頭項の消去(reduction)\n",
    "def RED(f):\n",
    "    return f - LT(f)\n",
    "\n",
    "# 多項式の次数(degree; ただし, degree(0)=-1)\n",
    "def DEG(f):\n",
    "    return f.degree()\n",
    "\n",
    "# 主部分終結式係数全体(principal subresultant coefficient)\n",
    "# 一つ一つ出力するほうがわかりやすいが, sagemathはsubresultantsモジュールしか備えておらず, そのためすべてを出力するように実装する.\n",
    "def PSCs(f, g):\n",
    "    \"\"\"\n",
    "    deg(f)>= 0, deg(g)>= 0, つまり, f != 0, g!= 0を仮定する.\n",
    "    \"\"\"\n",
    "    if f == 0 or g == 0:\n",
    "        return False\n",
    "    psc_list = []\n",
    "    subres = f.subresultants(g)\n",
    "    for i in range(len(subres)):\n",
    "        if DEG(subres[i])==i:\n",
    "            psc_list.append(LC(subres[i]))\n",
    "        else:\n",
    "            psc_list.append(0)\n",
    "    \n",
    "    return psc_list\n",
    "        "
   ]
  },
  {
   "cell_type": "markdown",
   "metadata": {},
   "source": [
    "PROJ（F）の定義"
   ]
  },
  {
   "cell_type": "code",
   "execution_count": 12,
   "metadata": {},
   "outputs": [],
   "source": [
    "def PROJ(F:set):\n",
    "    \"\"\"\n",
    "    射影段階の実装を行う.\n",
    "    Input: 一意分解整域R係数1変数多項式環R[x]の有限部分集合F\n",
    "    Output: 一意分解整域Rの有限部分集合F\n",
    "    \"\"\"\n",
    "    \n",
    "    # FのReductionをすべて計算して, その集合をBとする.\n",
    "    B = []\n",
    "    for f in F:\n",
    "        A = f\n",
    "        while(A!=0):\n",
    "            B.append(A)\n",
    "            A = RED(A)\n",
    "    B = list(set(B))\n",
    "    \n",
    "    # Bの先頭項係数全体をLとする.\n",
    "    L = {LC(b) for b in B}\n",
    "    \n",
    "    # PSC_k(b, b')全体をS1とする.\n",
    "    S1 = []\n",
    "    for b in B:\n",
    "        if DEG(b)>0:\n",
    "            S1 = S1 + PSCs(b, DER(b))\n",
    "    S1 = set(S1)\n",
    "    \n",
    "    # PSC_k(b1, b2)全体をS2とする.\n",
    "    S2 = []\n",
    "    for i in range(len(B)):\n",
    "        for j in range(i+1,len(B)):\n",
    "            S2 = S2 + PSCs(B[i],B[j])\n",
    "    S2 = set(S2)\n",
    "    \n",
    "    return L|S1|S2"
   ]
  },
  {
   "cell_type": "markdown",
   "metadata": {},
   "source": [
    "APROJ(F)の定義"
   ]
  },
  {
   "cell_type": "code",
   "execution_count": 13,
   "metadata": {},
   "outputs": [],
   "source": [
    "def APROJ(F:set):\n",
    "    \n",
    "    # FのReductionをすべて計算して, その集合をBとする.\n",
    "    B = []\n",
    "    for f in F:\n",
    "        A = f\n",
    "        while(A!=0):\n",
    "            B.append(A)\n",
    "            A = RED(A)\n",
    "    B = list(set(B))\n",
    "    \n",
    "    # Bの元の微分をすべて含み, Dとする.\n",
    "    D = []\n",
    "    for b in B:\n",
    "        A = DER(b)\n",
    "        while(DEG(A)>0):\n",
    "            D.append(A)\n",
    "            A = DER(A)\n",
    "    \n",
    "    # psc_k(d,d')をすべて含みPとする.\n",
    "    P = []\n",
    "    for d in D:\n",
    "        P += PSCs(d,DER(d))\n",
    "    P = set(P)\n",
    "    \n",
    "    return P|PROJ(F)"
   ]
  },
  {
   "cell_type": "markdown",
   "metadata": {},
   "source": [
    "メソッドの確認."
   ]
  },
  {
   "cell_type": "code",
   "execution_count": 14,
   "metadata": {},
   "outputs": [
    {
     "data": {
      "text/plain": [
       "({-2, -1, 0, 1, 2, 4, 5, 6, 12, 59},\n",
       " {-2, -1, 0, 1, 2, 4, 5, 6, 12, 36, 59, 72})"
      ]
     },
     "execution_count": 14,
     "metadata": {},
     "output_type": "execute_result"
    }
   ],
   "source": [
    "f = PolynomialRing(QQ,\"x\")(x^3+2*x+1)\n",
    "g = PolynomialRing(QQ,\"x\")(x^3+x)\n",
    "\n",
    "PROJ({f,g}),APROJ({f,g})"
   ]
  },
  {
   "cell_type": "code",
   "execution_count": 16,
   "metadata": {},
   "outputs": [
    {
     "data": {
      "text/plain": [
       "{1, -2*x, -x, x}"
      ]
     },
     "execution_count": 16,
     "metadata": {},
     "output_type": "execute_result"
    }
   ],
   "source": [
    "x,y,z = var(\"x, y, z\")\n",
    "f = PolynomialRing(PolynomialRing(PolynomialRing(QQ,\"x\"),\"y\"),\"z\")(z*y-x)\n",
    "g = PolynomialRing(PolynomialRing(PolynomialRing(QQ,\"x\"),\"y\"),\"z\")(z*y+x)\n",
    "PROJ(PROJ({f,g}))"
   ]
  },
  {
   "cell_type": "markdown",
   "metadata": {},
   "source": [
    "## 底段階\n",
    "\n",
    "- STRUM(f,g):\n",
    "    + INPUT: f,g: $\\mathrm{Q}[x]$の元\n",
    "    - OUTPUT: fから構成されるSTURM列\n"
   ]
  },
  {
   "cell_type": "code",
   "execution_count": 121,
   "metadata": {},
   "outputs": [],
   "source": [
    "def STRUM(f,g):\n",
    "    if DEG(f)<=0:\n",
    "        return 0\n",
    "    S = [f, DER(f)]\n",
    "    \n",
    "    while(True):\n",
    "        if S[-2] % S[-1] == 0:\n",
    "            break\n",
    "        else:\n",
    "            S.append(-(S[-2] % S[-1]))\n",
    "        \n",
    "    return S"
   ]
  },
  {
   "cell_type": "code",
   "execution_count": 122,
   "metadata": {},
   "outputs": [
    {
     "data": {
      "text/plain": [
       "[x^2 + 1, 2*x, -1]"
      ]
     },
     "execution_count": 122,
     "metadata": {},
     "output_type": "execute_result"
    }
   ],
   "source": [
    "STRUM(PolynomialRing(QQ, \"x\")(x^2+1))"
   ]
  },
  {
   "cell_type": "code",
   "execution_count": 135,
   "metadata": {},
   "outputs": [],
   "source": [
    "def COUNT(f,a,b):\n",
    "    if DEG(f)<=0:\n",
    "        return 0\n",
    "    \n",
    "    # スツルム列\n",
    "    S = [f, f.diff()]\n",
    "    \n",
    "    while(True):\n",
    "        if S[-2] % S[-1] == 0:\n",
    "            break\n",
    "        else:\n",
    "            S.append(- (S[-2] % S[-1]))\n",
    "\n",
    "    S_a = [s(a) for s in S]\n",
    "    S_b = [s(b) for s in S]\n",
    "    \n",
    "    return var(S_a) - var(S_b)\n"
   ]
  },
  {
   "cell_type": "code",
   "execution_count": 102,
   "metadata": {},
   "outputs": [],
   "source": [
    "NumberField?"
   ]
  },
  {
   "cell_type": "code",
   "execution_count": null,
   "metadata": {},
   "outputs": [],
   "source": []
  }
 ],
 "metadata": {
  "kernelspec": {
   "display_name": "SageMath 9.3",
   "language": "sage",
   "name": "sagemath"
  },
  "language_info": {
   "codemirror_mode": {
    "name": "ipython",
    "version": 3
   },
   "file_extension": ".py",
   "mimetype": "text/x-python",
   "name": "python",
   "nbconvert_exporter": "python",
   "pygments_lexer": "ipython3",
   "version": "3.7.10"
  }
 },
 "nbformat": 4,
 "nbformat_minor": 4
}
